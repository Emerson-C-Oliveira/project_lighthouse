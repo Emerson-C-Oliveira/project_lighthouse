{
 "cells": [
  {
   "cell_type": "markdown",
   "id": "7e5a5312",
   "metadata": {},
   "source": [
    "# 2.0 — Panorama Geral dos dados (Kaggle) e Pré-Limpeza\n",
    "\n",
    "**Objetivo:** carregar `kaggle_movies_metadata.csv`, analisar a estrutura do dataset (dimensão, tipos de dados, valores nulos) e inspecionar os campos críticos para o match (título, título original, data de lançamento/ano, votos, média de votos, orçamento, receita, runtime, idioma).\n",
    "\n",
    "Em seguida, aplicar uma **pré-limpeza mínima** nessas colunas-chave, incluindo: padronização de ano, ajuste de duração, normalização de valores de receita/orçamento e uniformização dos títulos, suficiente para viabilizar o matching com a base Lighthouse no notebook 03.  \n",
    "\n",
    "**Saída:** **Saída:** Arquivo limpo e padronizado em `data/processed/kaggle_movies_metadata_clean.csv`"
   ]
  },
  {
   "cell_type": "markdown",
   "id": "c9446529",
   "metadata": {},
   "source": [
    "## 2.1 - Imports"
   ]
  },
  {
   "cell_type": "code",
   "execution_count": 1,
   "id": "7235bb94",
   "metadata": {},
   "outputs": [],
   "source": [
    "# =====================================================\n",
    "# Imports\n",
    "# =====================================================\n",
    "\n",
    "# Manipulação e análise de dados\n",
    "import math\n",
    "import numpy as np\n",
    "import pandas as pd\n",
    "import re\n",
    "from pathlib import Path\n",
    "\n",
    "# Visualização de dados\n",
    "import seaborn as sns\n",
    "from matplotlib import pyplot as plt\n",
    "from matplotlib.gridspec import GridSpec\n",
    "from tabulate import tabulate\n",
    "\n",
    "# Sistema e paths\n",
    "import os\n",
    "from pathlib import Path\n",
    "\n",
    "# Utilidades para notebooks\n",
    "from IPython.display import display\n",
    "from IPython.display import Image\n",
    "from IPython.core.display import HTML\n",
    "\n",
    "# Manipulação de datas\n",
    "import datetime"
   ]
  },
  {
   "cell_type": "markdown",
   "id": "8c188f66",
   "metadata": {},
   "source": [
    "## 2.2 - Funções Auxiliares"
   ]
  },
  {
   "cell_type": "code",
   "execution_count": 2,
   "id": "11765d45",
   "metadata": {},
   "outputs": [],
   "source": [
    "# ==== Caminhos & Display ====\n",
    "class PATHS:\n",
    "    \"\"\"\n",
    "    Caminhos padrão do projeto quando o notebook roda dentro de 'notebooks/'.\n",
    "\n",
    "    Regra:\n",
    "    - Se o cwd termina com 'notebooks', a raiz é o pai (../)\n",
    "    - Caso contrário, assume que já estamos na raiz (útil se abrir o Jupyter na raiz)\n",
    "    \"\"\"\n",
    "    _CWD = Path.cwd()\n",
    "    ROOT = _CWD.parent if _CWD.name == \"notebooks\" else _CWD\n",
    "    RAW  = ROOT / \"data\" / \"raw\"\n",
    "    PROC = ROOT / \"data\" / \"processed\"\n",
    "    INTER = ROOT / \"data\" / \"intermediary\"\n",
    "    REP  = ROOT / \"reports\"\n",
    "    FIG  = REP / \"figures\"\n",
    "\n",
    "def ensure_dirs():\n",
    "    \"\"\"Garante que as pastas principais existam.\"\"\"\n",
    "    for p in [PATHS.RAW, PATHS.INTER, PATHS.PROC, PATHS.REP, PATHS.FIG]:\n",
    "        p.mkdir(parents=True, exist_ok=True)\n",
    "\n",
    "def set_display(max_cols: int = 100, decimals: int = 2):\n",
    "    \"\"\"Ajusta visualização padrão no Pandas/Seaborn para leitura eficiente.\"\"\"\n",
    "    pd.options.display.max_columns = max_cols\n",
    "    fmt = \"{:.\" + str(decimals) + \"f}\"\n",
    "    pd.options.display.float_format = fmt.format\n",
    "    sns.set(style=\"whitegrid\", palette=\"muted\", font_scale=1.1)\n",
    "\n",
    "# ==== Parsing & Normalização ====\n",
    "def normalize_title(s):\n",
    "    \"\"\"Normaliza título: minúsculas, sem pontuação, sem espaços extras.\"\"\"\n",
    "    if pd.isna(s):\n",
    "        return np.nan\n",
    "    s = s.lower()\n",
    "    s = re.sub(r\"\\s+\", \" \", s)\n",
    "    s = re.sub(r\"[^\\w\\s]\", \"\", s)\n",
    "    return s.strip()\n",
    "\n",
    "def parse_year(x):\n",
    "    \"\"\"Extrai o primeiro ano encontrado (ex.: '1994' ou '1994(I)').\"\"\"\n",
    "    if pd.isna(x):\n",
    "        return pd.NA\n",
    "    m = re.search(r\"\\d{4}\", str(x))\n",
    "    return int(m.group()) if m else pd.NA\n",
    "\n",
    "def to_numeric_safe(series):\n",
    "    \"\"\"Converte para numérico com 'coerce' (incompatíveis viram NaN).\"\"\"\n",
    "    return pd.to_numeric(series, errors=\"coerce\")\n",
    "\n",
    "# ==== Deduplicação ====\n",
    "def dedup_by_key(df, keys, score_col=\"vote_count\"):\n",
    "    \"\"\"\n",
    "    Se houver múltiplas linhas para a mesma chave, mantém a de maior `score_col`.\n",
    "    Ex.: ao agrupar por (title_norm, Year), fica a linha com maior número de votos.\n",
    "    \"\"\"\n",
    "    tmp = df.copy()\n",
    "    tmp[score_col] = to_numeric_safe(tmp[score_col]) if score_col in tmp.columns else 0\n",
    "    tmp = tmp.sort_values(by=[score_col], ascending=False)\n",
    "    return tmp.drop_duplicates(subset=keys, keep=\"first\")"
   ]
  },
  {
   "cell_type": "code",
   "execution_count": 3,
   "id": "46c805c5",
   "metadata": {},
   "outputs": [],
   "source": [
    "# Chamo as de caminhos e display\n",
    "ensure_dirs()\n",
    "set_display()"
   ]
  },
  {
   "cell_type": "markdown",
   "id": "1bc5296c",
   "metadata": {},
   "source": [
    "## 2.3 - Carregando os Dados"
   ]
  },
  {
   "cell_type": "code",
   "execution_count": 4,
   "id": "296c9a28",
   "metadata": {},
   "outputs": [],
   "source": [
    "# Realizo a leitura dos dados através da classe\n",
    "df_km = pd.read_csv(PATHS.RAW / \"kaggle_movies_metadata.csv\", low_memory=False)"
   ]
  },
  {
   "cell_type": "markdown",
   "id": "832ce483",
   "metadata": {},
   "source": [
    "## 2.4 - Descrição dos Dados"
   ]
  },
  {
   "cell_type": "code",
   "execution_count": 5,
   "id": "e9dd2be7",
   "metadata": {},
   "outputs": [],
   "source": [
    "# Cópia da base - Boa prática para evitar modificações sem intenção\n",
    "df1 = df_km.copy()"
   ]
  },
  {
   "cell_type": "code",
   "execution_count": 6,
   "id": "038360f6",
   "metadata": {},
   "outputs": [
    {
     "name": "stdout",
     "output_type": "stream",
     "text": [
      "Kaggle Metabase: (45466, 24)\n"
     ]
    }
   ],
   "source": [
    "print(\"Kaggle Metabase:\", df1.shape)"
   ]
  },
  {
   "cell_type": "code",
   "execution_count": 7,
   "id": "016863e0",
   "metadata": {},
   "outputs": [
    {
     "name": "stdout",
     "output_type": "stream",
     "text": [
      "Kaggle Metabase: Index(['adult', 'belongs_to_collection', 'budget', 'genres', 'homepage', 'id',\n",
      "       'imdb_id', 'original_language', 'original_title', 'overview',\n",
      "       'popularity', 'poster_path', 'production_companies',\n",
      "       'production_countries', 'release_date', 'revenue', 'runtime',\n",
      "       'spoken_languages', 'status', 'tagline', 'title', 'video',\n",
      "       'vote_average', 'vote_count'],\n",
      "      dtype='object')\n"
     ]
    }
   ],
   "source": [
    "print(\"Kaggle Metabase:\", df1.columns)"
   ]
  },
  {
   "cell_type": "code",
   "execution_count": 8,
   "id": "95c2485c",
   "metadata": {},
   "outputs": [
    {
     "name": "stdout",
     "output_type": "stream",
     "text": [
      "\n",
      "Tipos de dados da base Kaggle Metabase:\n",
      " adult                     object\n",
      "belongs_to_collection     object\n",
      "budget                    object\n",
      "genres                    object\n",
      "homepage                  object\n",
      "id                        object\n",
      "imdb_id                   object\n",
      "original_language         object\n",
      "original_title            object\n",
      "overview                  object\n",
      "popularity                object\n",
      "poster_path               object\n",
      "production_companies      object\n",
      "production_countries      object\n",
      "release_date              object\n",
      "revenue                  float64\n",
      "runtime                  float64\n",
      "spoken_languages          object\n",
      "status                    object\n",
      "tagline                   object\n",
      "title                     object\n",
      "video                     object\n",
      "vote_average             float64\n",
      "vote_count               float64\n",
      "dtype: object\n"
     ]
    }
   ],
   "source": [
    "print(\"\\nTipos de dados da base Kaggle Metabase:\\n\", df1.dtypes)"
   ]
  },
  {
   "cell_type": "code",
   "execution_count": 9,
   "id": "487324e5",
   "metadata": {},
   "outputs": [
    {
     "data": {
      "text/html": [
       "<div>\n",
       "<style scoped>\n",
       "    .dataframe tbody tr th:only-of-type {\n",
       "        vertical-align: middle;\n",
       "    }\n",
       "\n",
       "    .dataframe tbody tr th {\n",
       "        vertical-align: top;\n",
       "    }\n",
       "\n",
       "    .dataframe thead th {\n",
       "        text-align: right;\n",
       "    }\n",
       "</style>\n",
       "<table border=\"1\" class=\"dataframe\">\n",
       "  <thead>\n",
       "    <tr style=\"text-align: right;\">\n",
       "      <th></th>\n",
       "      <th>adult</th>\n",
       "      <th>belongs_to_collection</th>\n",
       "      <th>budget</th>\n",
       "      <th>genres</th>\n",
       "      <th>homepage</th>\n",
       "      <th>id</th>\n",
       "      <th>imdb_id</th>\n",
       "      <th>original_language</th>\n",
       "      <th>original_title</th>\n",
       "      <th>overview</th>\n",
       "      <th>popularity</th>\n",
       "      <th>poster_path</th>\n",
       "      <th>production_companies</th>\n",
       "      <th>production_countries</th>\n",
       "      <th>release_date</th>\n",
       "      <th>revenue</th>\n",
       "      <th>runtime</th>\n",
       "      <th>spoken_languages</th>\n",
       "      <th>status</th>\n",
       "      <th>tagline</th>\n",
       "      <th>title</th>\n",
       "      <th>video</th>\n",
       "      <th>vote_average</th>\n",
       "      <th>vote_count</th>\n",
       "    </tr>\n",
       "  </thead>\n",
       "  <tbody>\n",
       "    <tr>\n",
       "      <th>43526</th>\n",
       "      <td>False</td>\n",
       "      <td>NaN</td>\n",
       "      <td>0</td>\n",
       "      <td>[{'id': 18, 'name': 'Drama'}, {'id': 35, 'name...</td>\n",
       "      <td>https://www.netflix.com/title/80164212</td>\n",
       "      <td>411405</td>\n",
       "      <td>tt5717492</td>\n",
       "      <td>en</td>\n",
       "      <td>Small Crimes</td>\n",
       "      <td>A disgraced former cop, fresh off a six-year p...</td>\n",
       "      <td>7.219022</td>\n",
       "      <td>/z7jmLmrs0pLlDU4GI6ItaJeqlET.jpg</td>\n",
       "      <td>[{'name': 'Rooks Nest Entertainment', 'id': 34...</td>\n",
       "      <td>[{'iso_3166_1': 'CA', 'name': 'Canada'}, {'iso...</td>\n",
       "      <td>2017-04-28</td>\n",
       "      <td>0.00</td>\n",
       "      <td>95.00</td>\n",
       "      <td>[{'iso_639_1': 'en', 'name': 'English'}, {'iso...</td>\n",
       "      <td>Released</td>\n",
       "      <td>NaN</td>\n",
       "      <td>Small Crimes</td>\n",
       "      <td>False</td>\n",
       "      <td>5.80</td>\n",
       "      <td>55.00</td>\n",
       "    </tr>\n",
       "    <tr>\n",
       "      <th>6383</th>\n",
       "      <td>False</td>\n",
       "      <td>NaN</td>\n",
       "      <td>0</td>\n",
       "      <td>[{'id': 18, 'name': 'Drama'}, {'id': 35, 'name...</td>\n",
       "      <td>NaN</td>\n",
       "      <td>42492</td>\n",
       "      <td>tt0069449</td>\n",
       "      <td>en</td>\n",
       "      <td>Up the Sandbox</td>\n",
       "      <td>A young wife and mother, bored with day-to-day...</td>\n",
       "      <td>0.13845</td>\n",
       "      <td>/zwOmdqvPObv9EsMgne7EBYzPYGW.jpg</td>\n",
       "      <td>[{'name': 'Barwood Films', 'id': 3645}, {'name...</td>\n",
       "      <td>[{'iso_3166_1': 'US', 'name': 'United States o...</td>\n",
       "      <td>1972-12-21</td>\n",
       "      <td>0.00</td>\n",
       "      <td>97.00</td>\n",
       "      <td>[{'iso_639_1': 'en', 'name': 'English'}]</td>\n",
       "      <td>Released</td>\n",
       "      <td>NaN</td>\n",
       "      <td>Up the Sandbox</td>\n",
       "      <td>False</td>\n",
       "      <td>7.30</td>\n",
       "      <td>2.00</td>\n",
       "    </tr>\n",
       "    <tr>\n",
       "      <th>3154</th>\n",
       "      <td>False</td>\n",
       "      <td>NaN</td>\n",
       "      <td>1000000</td>\n",
       "      <td>[{'id': 80, 'name': 'Crime'}, {'id': 18, 'name...</td>\n",
       "      <td>NaN</td>\n",
       "      <td>12143</td>\n",
       "      <td>tt0103759</td>\n",
       "      <td>en</td>\n",
       "      <td>Bad Lieutenant</td>\n",
       "      <td>While investigating a young nun's rape, a corr...</td>\n",
       "      <td>6.417037</td>\n",
       "      <td>/oe8VjWCKXktqA19T1ZWtaSn8rc2.jpg</td>\n",
       "      <td>[{'name': 'Bad Lt. Productions', 'id': 11264}]</td>\n",
       "      <td>[{'iso_3166_1': 'US', 'name': 'United States o...</td>\n",
       "      <td>1992-09-16</td>\n",
       "      <td>2019469.00</td>\n",
       "      <td>96.00</td>\n",
       "      <td>[{'iso_639_1': 'en', 'name': 'English'}, {'iso...</td>\n",
       "      <td>Released</td>\n",
       "      <td>Gambler. Thief. Junkie. Killer. Cop.</td>\n",
       "      <td>Bad Lieutenant</td>\n",
       "      <td>False</td>\n",
       "      <td>6.90</td>\n",
       "      <td>162.00</td>\n",
       "    </tr>\n",
       "  </tbody>\n",
       "</table>\n",
       "</div>"
      ],
      "text/plain": [
       "       adult belongs_to_collection   budget  \\\n",
       "43526  False                   NaN        0   \n",
       "6383   False                   NaN        0   \n",
       "3154   False                   NaN  1000000   \n",
       "\n",
       "                                                  genres  \\\n",
       "43526  [{'id': 18, 'name': 'Drama'}, {'id': 35, 'name...   \n",
       "6383   [{'id': 18, 'name': 'Drama'}, {'id': 35, 'name...   \n",
       "3154   [{'id': 80, 'name': 'Crime'}, {'id': 18, 'name...   \n",
       "\n",
       "                                     homepage      id    imdb_id  \\\n",
       "43526  https://www.netflix.com/title/80164212  411405  tt5717492   \n",
       "6383                                      NaN   42492  tt0069449   \n",
       "3154                                      NaN   12143  tt0103759   \n",
       "\n",
       "      original_language  original_title  \\\n",
       "43526                en    Small Crimes   \n",
       "6383                 en  Up the Sandbox   \n",
       "3154                 en  Bad Lieutenant   \n",
       "\n",
       "                                                overview popularity  \\\n",
       "43526  A disgraced former cop, fresh off a six-year p...   7.219022   \n",
       "6383   A young wife and mother, bored with day-to-day...    0.13845   \n",
       "3154   While investigating a young nun's rape, a corr...   6.417037   \n",
       "\n",
       "                            poster_path  \\\n",
       "43526  /z7jmLmrs0pLlDU4GI6ItaJeqlET.jpg   \n",
       "6383   /zwOmdqvPObv9EsMgne7EBYzPYGW.jpg   \n",
       "3154   /oe8VjWCKXktqA19T1ZWtaSn8rc2.jpg   \n",
       "\n",
       "                                    production_companies  \\\n",
       "43526  [{'name': 'Rooks Nest Entertainment', 'id': 34...   \n",
       "6383   [{'name': 'Barwood Films', 'id': 3645}, {'name...   \n",
       "3154      [{'name': 'Bad Lt. Productions', 'id': 11264}]   \n",
       "\n",
       "                                    production_countries release_date  \\\n",
       "43526  [{'iso_3166_1': 'CA', 'name': 'Canada'}, {'iso...   2017-04-28   \n",
       "6383   [{'iso_3166_1': 'US', 'name': 'United States o...   1972-12-21   \n",
       "3154   [{'iso_3166_1': 'US', 'name': 'United States o...   1992-09-16   \n",
       "\n",
       "         revenue  runtime                                   spoken_languages  \\\n",
       "43526       0.00    95.00  [{'iso_639_1': 'en', 'name': 'English'}, {'iso...   \n",
       "6383        0.00    97.00           [{'iso_639_1': 'en', 'name': 'English'}]   \n",
       "3154  2019469.00    96.00  [{'iso_639_1': 'en', 'name': 'English'}, {'iso...   \n",
       "\n",
       "         status                               tagline           title  video  \\\n",
       "43526  Released                                   NaN    Small Crimes  False   \n",
       "6383   Released                                   NaN  Up the Sandbox  False   \n",
       "3154   Released  Gambler. Thief. Junkie. Killer. Cop.  Bad Lieutenant  False   \n",
       "\n",
       "       vote_average  vote_count  \n",
       "43526          5.80       55.00  \n",
       "6383           7.30        2.00  \n",
       "3154           6.90      162.00  "
      ]
     },
     "metadata": {},
     "output_type": "display_data"
    }
   ],
   "source": [
    "display(df1.sample(3, random_state=42))"
   ]
  },
  {
   "cell_type": "code",
   "execution_count": 10,
   "id": "0081365e",
   "metadata": {},
   "outputs": [
    {
     "data": {
      "text/plain": [
       "belongs_to_collection   90.12\n",
       "homepage                82.88\n",
       "tagline                 55.10\n",
       "overview                 2.10\n",
       "poster_path              0.85\n",
       "runtime                  0.58\n",
       "status                   0.19\n",
       "release_date             0.19\n",
       "imdb_id                  0.04\n",
       "original_language        0.02\n",
       "vote_average             0.01\n",
       "vote_count               0.01\n",
       "title                    0.01\n",
       "video                    0.01\n",
       "spoken_languages         0.01\n",
       "revenue                  0.01\n",
       "popularity               0.01\n",
       "production_countries     0.01\n",
       "production_companies     0.01\n",
       "genres                   0.00\n",
       "id                       0.00\n",
       "adult                    0.00\n",
       "budget                   0.00\n",
       "original_title           0.00\n",
       "dtype: float64"
      ]
     },
     "metadata": {},
     "output_type": "display_data"
    }
   ],
   "source": [
    "display(df1.isna().mean().sort_values(ascending=False)*100)"
   ]
  },
  {
   "cell_type": "code",
   "execution_count": 11,
   "id": "304066a9",
   "metadata": {},
   "outputs": [
    {
     "data": {
      "text/plain": [
       "adult                        5\n",
       "belongs_to_collection     1698\n",
       "budget                    1226\n",
       "genres                    4069\n",
       "homepage                  7673\n",
       "id                       45436\n",
       "imdb_id                  45417\n",
       "original_language           92\n",
       "original_title           43373\n",
       "overview                 44307\n",
       "popularity               43758\n",
       "poster_path              45024\n",
       "production_companies     22708\n",
       "production_countries      2393\n",
       "release_date             17336\n",
       "revenue                   6863\n",
       "runtime                    353\n",
       "spoken_languages          1931\n",
       "status                       6\n",
       "tagline                  20283\n",
       "title                    42277\n",
       "video                        2\n",
       "vote_average                92\n",
       "vote_count                1820\n",
       "dtype: int64"
      ]
     },
     "execution_count": 11,
     "metadata": {},
     "output_type": "execute_result"
    }
   ],
   "source": [
    "df1.nunique(dropna=True)"
   ]
  },
  {
   "cell_type": "markdown",
   "id": "5740d58b",
   "metadata": {},
   "source": [
    "## 2.5 - Pré-limpeza dos dados da Kaggle Movies (para matching)\n",
    "\n",
    "A partir do diagnóstico por coluna, vou padronizar apenas os campos necessários para o matching:\n",
    "\n",
    "- Ano: extrairei de \"release_date\" uma coluna Year numérica.\n",
    "\n",
    "- Títulos normalizados: criarei um \"title_norm\" (a partir de title) e \"original_title_norm\" (a partir de original_title) em minúsculas, sem pontuação e com espaços normalizados — isso reduzirá variações superficiais em joins.\n",
    "\n",
    "- Numéricos confiáveis: garantirei float/int em \"budget\", \"revenue\", \"runtime\", \"vote_average\", \"vote_count\" e \"popularity\" via conversão com coerce (valores inválidos viram NaN).\n",
    "\n",
    "Não vou renomear as colunas originais agora para preservar a compatibilidade, nem irei imputar valores ausentes/outliers (fica para a EDA). A saída aqui será um CSV “limpo o suficiente” para o matching no próximo notebook.\n"
   ]
  },
  {
   "cell_type": "code",
   "execution_count": 12,
   "id": "83e494a1",
   "metadata": {},
   "outputs": [],
   "source": [
    "df_clean = df1.copy()"
   ]
  },
  {
   "cell_type": "code",
   "execution_count": 13,
   "id": "5b495a77",
   "metadata": {},
   "outputs": [],
   "source": [
    "# Crio a coluna Year e normalizo os títulos\n",
    "df_clean[\"Year\"] = df_clean[\"release_date\"].map(parse_year).astype(\"Int64\")\n",
    "df_clean[\"title_norm\"] = df_clean[\"title\"].map(normalize_title)\n",
    "df_clean[\"original_title_norm\"] = df_clean[\"original_title\"].map(normalize_title)"
   ]
  },
  {
   "cell_type": "code",
   "execution_count": 14,
   "id": "2f83f711",
   "metadata": {},
   "outputs": [],
   "source": [
    "# Faço as conversões numéricas “seguras” (coerce: erros viram NaN) das colunas abaixo\n",
    "for col in [\"budget\", \"revenue\", \"runtime\", \"vote_average\", \"vote_count\", \"popularity\"]:\n",
    "    df_clean[col] = pd.to_numeric(df_clean[col], errors=\"coerce\")"
   ]
  },
  {
   "cell_type": "code",
   "execution_count": 15,
   "id": "d3550435",
   "metadata": {},
   "outputs": [
    {
     "data": {
      "text/plain": [
       "'Tipos (pós limpeza, colunas-chave):'"
      ]
     },
     "metadata": {},
     "output_type": "display_data"
    },
    {
     "data": {
      "text/plain": [
       "title              object\n",
       "original_title     object\n",
       "Year                Int64\n",
       "budget            float64\n",
       "revenue           float64\n",
       "runtime           float64\n",
       "vote_average      float64\n",
       "vote_count        float64\n",
       "popularity        float64\n",
       "dtype: object"
      ]
     },
     "metadata": {},
     "output_type": "display_data"
    },
    {
     "data": {
      "text/plain": [
       "'Porcentagem de nulos (pós limpeza, colunas-chave):'"
      ]
     },
     "metadata": {},
     "output_type": "display_data"
    },
    {
     "data": {
      "text/plain": [
       "runtime          0.58\n",
       "Year             0.20\n",
       "title            0.01\n",
       "vote_average     0.01\n",
       "revenue          0.01\n",
       "vote_count       0.01\n",
       "popularity       0.01\n",
       "budget           0.01\n",
       "original_title   0.00\n",
       "dtype: float64"
      ]
     },
     "metadata": {},
     "output_type": "display_data"
    }
   ],
   "source": [
    "# Faço as checagens rápidas pós limpeza\n",
    "display(\"Tipos (pós limpeza, colunas-chave):\", df_clean[[\"title\",\"original_title\",\"Year\",\"budget\",\"revenue\",\"runtime\",\"vote_average\",\"vote_count\",\"popularity\"]].dtypes)\n",
    "\n",
    "cols_key = [\"title\",\"original_title\",\"Year\",\"budget\",\"revenue\",\"runtime\",\"vote_average\",\"vote_count\",\"popularity\"]\n",
    "display(\"Porcentagem de nulos (pós limpeza, colunas-chave):\", df_clean[cols_key].isna().mean().sort_values(ascending=False) * 100)"
   ]
  },
  {
   "cell_type": "code",
   "execution_count": 16,
   "id": "7db4ce52",
   "metadata": {},
   "outputs": [
    {
     "name": "stdout",
     "output_type": "stream",
     "text": [
      "Duplicatas por (title_norm, Year): 174\n",
      "Duplicatas por (original_title_norm, Year): 109\n"
     ]
    }
   ],
   "source": [
    "# Testo as duplicatas potenciais para as chaves de match\n",
    "dup1 = df_clean.duplicated(subset=[\"title_norm\",\"Year\"], keep=False).sum()\n",
    "dup2 = df_clean.duplicated(subset=[\"original_title_norm\",\"Year\"], keep=False).sum()\n",
    "print(f\"Duplicatas por (title_norm, Year): {dup1}\")\n",
    "print(f\"Duplicatas por (original_title_norm, Year): {dup2}\")"
   ]
  },
  {
   "cell_type": "code",
   "execution_count": 17,
   "id": "dc3c1927",
   "metadata": {},
   "outputs": [
    {
     "data": {
      "text/html": [
       "<div>\n",
       "<style scoped>\n",
       "    .dataframe tbody tr th:only-of-type {\n",
       "        vertical-align: middle;\n",
       "    }\n",
       "\n",
       "    .dataframe tbody tr th {\n",
       "        vertical-align: top;\n",
       "    }\n",
       "\n",
       "    .dataframe thead th {\n",
       "        text-align: right;\n",
       "    }\n",
       "</style>\n",
       "<table border=\"1\" class=\"dataframe\">\n",
       "  <thead>\n",
       "    <tr style=\"text-align: right;\">\n",
       "      <th></th>\n",
       "      <th>title</th>\n",
       "      <th>original_title</th>\n",
       "      <th>Year</th>\n",
       "      <th>title_norm</th>\n",
       "      <th>original_title_norm</th>\n",
       "      <th>vote_average</th>\n",
       "      <th>vote_count</th>\n",
       "    </tr>\n",
       "  </thead>\n",
       "  <tbody>\n",
       "    <tr>\n",
       "      <th>43526</th>\n",
       "      <td>Small Crimes</td>\n",
       "      <td>Small Crimes</td>\n",
       "      <td>2017</td>\n",
       "      <td>small crimes</td>\n",
       "      <td>small crimes</td>\n",
       "      <td>5.80</td>\n",
       "      <td>55.00</td>\n",
       "    </tr>\n",
       "    <tr>\n",
       "      <th>6383</th>\n",
       "      <td>Up the Sandbox</td>\n",
       "      <td>Up the Sandbox</td>\n",
       "      <td>1972</td>\n",
       "      <td>up the sandbox</td>\n",
       "      <td>up the sandbox</td>\n",
       "      <td>7.30</td>\n",
       "      <td>2.00</td>\n",
       "    </tr>\n",
       "    <tr>\n",
       "      <th>3154</th>\n",
       "      <td>Bad Lieutenant</td>\n",
       "      <td>Bad Lieutenant</td>\n",
       "      <td>1992</td>\n",
       "      <td>bad lieutenant</td>\n",
       "      <td>bad lieutenant</td>\n",
       "      <td>6.90</td>\n",
       "      <td>162.00</td>\n",
       "    </tr>\n",
       "    <tr>\n",
       "      <th>10146</th>\n",
       "      <td>Satan's Little Helper</td>\n",
       "      <td>Satan's Little Helper</td>\n",
       "      <td>2004</td>\n",
       "      <td>satans little helper</td>\n",
       "      <td>satans little helper</td>\n",
       "      <td>5.00</td>\n",
       "      <td>42.00</td>\n",
       "    </tr>\n",
       "    <tr>\n",
       "      <th>9531</th>\n",
       "      <td>Sitcom</td>\n",
       "      <td>Sitcom</td>\n",
       "      <td>1998</td>\n",
       "      <td>sitcom</td>\n",
       "      <td>sitcom</td>\n",
       "      <td>6.40</td>\n",
       "      <td>27.00</td>\n",
       "    </tr>\n",
       "  </tbody>\n",
       "</table>\n",
       "</div>"
      ],
      "text/plain": [
       "                       title         original_title  Year  \\\n",
       "43526           Small Crimes           Small Crimes  2017   \n",
       "6383          Up the Sandbox         Up the Sandbox  1972   \n",
       "3154          Bad Lieutenant         Bad Lieutenant  1992   \n",
       "10146  Satan's Little Helper  Satan's Little Helper  2004   \n",
       "9531                  Sitcom                 Sitcom  1998   \n",
       "\n",
       "                 title_norm   original_title_norm  vote_average  vote_count  \n",
       "43526          small crimes          small crimes          5.80       55.00  \n",
       "6383         up the sandbox        up the sandbox          7.30        2.00  \n",
       "3154         bad lieutenant        bad lieutenant          6.90      162.00  \n",
       "10146  satans little helper  satans little helper          5.00       42.00  \n",
       "9531                 sitcom                sitcom          6.40       27.00  "
      ]
     },
     "metadata": {},
     "output_type": "display_data"
    }
   ],
   "source": [
    "display(df_clean.loc[:, [\"title\",\"original_title\",\"Year\",\"title_norm\",\"original_title_norm\",\"vote_average\",\"vote_count\"]]\n",
    "        .sample(5, random_state=42))"
   ]
  },
  {
   "cell_type": "markdown",
   "id": "cc488ff1",
   "metadata": {},
   "source": [
    "## 2.6 - Deduplicação por chave - registro por mais votos"
   ]
  },
  {
   "cell_type": "code",
   "execution_count": 18,
   "id": "8622493c",
   "metadata": {},
   "outputs": [
    {
     "name": "stdout",
     "output_type": "stream",
     "text": [
      "Tamanhos após dedup:\n",
      "km_key1: (45376, 27) | km_key2: (45411, 27)\n"
     ]
    },
    {
     "data": {
      "text/html": [
       "<div>\n",
       "<style scoped>\n",
       "    .dataframe tbody tr th:only-of-type {\n",
       "        vertical-align: middle;\n",
       "    }\n",
       "\n",
       "    .dataframe tbody tr th {\n",
       "        vertical-align: top;\n",
       "    }\n",
       "\n",
       "    .dataframe thead th {\n",
       "        text-align: right;\n",
       "    }\n",
       "</style>\n",
       "<table border=\"1\" class=\"dataframe\">\n",
       "  <thead>\n",
       "    <tr style=\"text-align: right;\">\n",
       "      <th></th>\n",
       "      <th>title</th>\n",
       "      <th>Year</th>\n",
       "      <th>vote_count</th>\n",
       "      <th>vote_average</th>\n",
       "    </tr>\n",
       "  </thead>\n",
       "  <tbody>\n",
       "    <tr>\n",
       "      <th>15480</th>\n",
       "      <td>Inception</td>\n",
       "      <td>2010</td>\n",
       "      <td>14075.00</td>\n",
       "      <td>8.10</td>\n",
       "    </tr>\n",
       "    <tr>\n",
       "      <th>12481</th>\n",
       "      <td>The Dark Knight</td>\n",
       "      <td>2008</td>\n",
       "      <td>12269.00</td>\n",
       "      <td>8.30</td>\n",
       "    </tr>\n",
       "    <tr>\n",
       "      <th>14551</th>\n",
       "      <td>Avatar</td>\n",
       "      <td>2009</td>\n",
       "      <td>12114.00</td>\n",
       "      <td>7.20</td>\n",
       "    </tr>\n",
       "    <tr>\n",
       "      <th>17818</th>\n",
       "      <td>The Avengers</td>\n",
       "      <td>2012</td>\n",
       "      <td>12000.00</td>\n",
       "      <td>7.40</td>\n",
       "    </tr>\n",
       "    <tr>\n",
       "      <th>26564</th>\n",
       "      <td>Deadpool</td>\n",
       "      <td>2016</td>\n",
       "      <td>11444.00</td>\n",
       "      <td>7.40</td>\n",
       "    </tr>\n",
       "  </tbody>\n",
       "</table>\n",
       "</div>"
      ],
      "text/plain": [
       "                 title  Year  vote_count  vote_average\n",
       "15480        Inception  2010    14075.00          8.10\n",
       "12481  The Dark Knight  2008    12269.00          8.30\n",
       "14551           Avatar  2009    12114.00          7.20\n",
       "17818     The Avengers  2012    12000.00          7.40\n",
       "26564         Deadpool  2016    11444.00          7.40"
      ]
     },
     "metadata": {},
     "output_type": "display_data"
    },
    {
     "data": {
      "text/html": [
       "<div>\n",
       "<style scoped>\n",
       "    .dataframe tbody tr th:only-of-type {\n",
       "        vertical-align: middle;\n",
       "    }\n",
       "\n",
       "    .dataframe tbody tr th {\n",
       "        vertical-align: top;\n",
       "    }\n",
       "\n",
       "    .dataframe thead th {\n",
       "        text-align: right;\n",
       "    }\n",
       "</style>\n",
       "<table border=\"1\" class=\"dataframe\">\n",
       "  <thead>\n",
       "    <tr style=\"text-align: right;\">\n",
       "      <th></th>\n",
       "      <th>original_title</th>\n",
       "      <th>Year</th>\n",
       "      <th>vote_count</th>\n",
       "      <th>vote_average</th>\n",
       "    </tr>\n",
       "  </thead>\n",
       "  <tbody>\n",
       "    <tr>\n",
       "      <th>15480</th>\n",
       "      <td>Inception</td>\n",
       "      <td>2010</td>\n",
       "      <td>14075.00</td>\n",
       "      <td>8.10</td>\n",
       "    </tr>\n",
       "    <tr>\n",
       "      <th>12481</th>\n",
       "      <td>The Dark Knight</td>\n",
       "      <td>2008</td>\n",
       "      <td>12269.00</td>\n",
       "      <td>8.30</td>\n",
       "    </tr>\n",
       "    <tr>\n",
       "      <th>14551</th>\n",
       "      <td>Avatar</td>\n",
       "      <td>2009</td>\n",
       "      <td>12114.00</td>\n",
       "      <td>7.20</td>\n",
       "    </tr>\n",
       "    <tr>\n",
       "      <th>17818</th>\n",
       "      <td>The Avengers</td>\n",
       "      <td>2012</td>\n",
       "      <td>12000.00</td>\n",
       "      <td>7.40</td>\n",
       "    </tr>\n",
       "    <tr>\n",
       "      <th>26564</th>\n",
       "      <td>Deadpool</td>\n",
       "      <td>2016</td>\n",
       "      <td>11444.00</td>\n",
       "      <td>7.40</td>\n",
       "    </tr>\n",
       "  </tbody>\n",
       "</table>\n",
       "</div>"
      ],
      "text/plain": [
       "        original_title  Year  vote_count  vote_average\n",
       "15480        Inception  2010    14075.00          8.10\n",
       "12481  The Dark Knight  2008    12269.00          8.30\n",
       "14551           Avatar  2009    12114.00          7.20\n",
       "17818     The Avengers  2012    12000.00          7.40\n",
       "26564         Deadpool  2016    11444.00          7.40"
      ]
     },
     "metadata": {},
     "output_type": "display_data"
    }
   ],
   "source": [
    "# Chave 1: (title_norm, Year)\n",
    "km_key1 = dedup_by_key(df_clean, keys=[\"title_norm\",\"Year\"], score_col=\"vote_count\")\n",
    "\n",
    "# Chave 2 (fallback): (original_title_norm, Year)\n",
    "km_key2 = dedup_by_key(df_clean, keys=[\"original_title_norm\",\"Year\"], score_col=\"vote_count\")\n",
    "\n",
    "print(\"Tamanhos após dedup:\")\n",
    "print(\"km_key1:\", km_key1.shape, \"| km_key2:\", km_key2.shape)\n",
    "\n",
    "# Chegando\n",
    "display(km_key1[[\"title\",\"Year\",\"vote_count\",\"vote_average\"]].head(5))\n",
    "display(km_key2[[\"original_title\",\"Year\",\"vote_count\",\"vote_average\"]].head(5))\n"
   ]
  },
  {
   "cell_type": "markdown",
   "id": "6b79b5fd",
   "metadata": {},
   "source": [
    "## 2.7 - Salvando os datasets limpos e deduplicados"
   ]
  },
  {
   "cell_type": "code",
   "execution_count": 19,
   "id": "3a1d4103",
   "metadata": {},
   "outputs": [
    {
     "name": "stdout",
     "output_type": "stream",
     "text": [
      "Arquivos salvos:\n",
      "Key1: /home/emersds/repos_projetos/project_lighthouse/data/intermediary/kaggle_movies_key_title_year.csv\n",
      "Key2: /home/emersds/repos_projetos/project_lighthouse/data/intermediary/kaggle_movies_key_originaltitle_year.csv\n"
     ]
    }
   ],
   "source": [
    "# Salvo os datasets limpos e as chaves de match\n",
    "out_key1  = PATHS.INTER / \"kaggle_movies_key_title_year.csv\"\n",
    "out_key2  = PATHS.INTER / \"kaggle_movies_key_originaltitle_year.csv\"\n",
    "\n",
    "km_key1.to_csv(out_key1, index=False)\n",
    "km_key2.to_csv(out_key2, index=False)\n",
    "\n",
    "print(\"Arquivos salvos:\")\n",
    "print(\"Key1:\", out_key1.resolve())\n",
    "print(\"Key2:\", out_key2.resolve())\n"
   ]
  },
  {
   "cell_type": "markdown",
   "id": "89b8c4bb",
   "metadata": {},
   "source": [
    "# 2.8 - Decisões e Próximos passos\n",
    "\n",
    "**Decisões nesta etapa**\n",
    "- Mantive somente as colunas necessárias para o match e enriquecimento com a base Lighthouse.\n",
    "- Criei Year via função parsing de release_date e forcei Int64 para aceitar ausências sem cair em object.\n",
    "- Normalizei title e original_title para chaves de junção e converti os campos numéricos com coerce.\n",
    "- Preparei duas versões deduplicadas por (title_norm, Year) e (original_title_norm, Year) mantendo o registro com maior vote_count.\n",
    "- Salvei as saídas limpas em data/processed/ para consumo direto no notebook de matching.\n",
    "\n",
    "**Próximos passos**\n",
    "- Carregar lighthouse_clean.csv, kaggle_movies_key_title_year.csv e kaggle_movies_key_originaltitle_year.csv.\n",
    "- Fazer o match 1 (title_norm+Year) e fallback 2 (original_title_norm+Year).\n",
    "- Enriquecer a base Lighthouse com budget, revenue, runtime, vote_*, popularity e salvar lighthouse_enriched.csv."
   ]
  }
 ],
 "metadata": {
  "kernelspec": {
   "display_name": "project_lighthouse",
   "language": "python",
   "name": "python3"
  },
  "language_info": {
   "codemirror_mode": {
    "name": "ipython",
    "version": 3
   },
   "file_extension": ".py",
   "mimetype": "text/x-python",
   "name": "python",
   "nbconvert_exporter": "python",
   "pygments_lexer": "ipython3",
   "version": "3.10.14"
  }
 },
 "nbformat": 4,
 "nbformat_minor": 5
}
