{
 "cells": [
  {
   "cell_type": "markdown",
   "id": "1b4a0d39",
   "metadata": {},
   "source": [
    "# 1.0 — Panorama Geral dos dados (Lighthouse) e Pré-Limpeza\n",
    "\n",
    "**Objetivo:** carregar `lighthouse_imdb.csv`, entender estrutura (tamanho, tipos, nulos) e aplicar **pré-limpeza mínima** em colunas-chave (ano, duração, gross, normalização de título).  \n",
    "\n",
    "**Saída:** Arquivo limpo e padronizado em `data/processed/lighthouse_clean.csv`"
   ]
  },
  {
   "cell_type": "markdown",
   "id": "f8117335",
   "metadata": {},
   "source": [
    "## 1.1 - Imports"
   ]
  },
  {
   "cell_type": "code",
   "execution_count": 1,
   "id": "96c7b15a",
   "metadata": {},
   "outputs": [],
   "source": [
    "# =====================================================\n",
    "# Imports\n",
    "# =====================================================\n",
    "\n",
    "# Manipulação e análise de dados\n",
    "import math\n",
    "import numpy as np\n",
    "import pandas as pd\n",
    "import re\n",
    "from pathlib import Path\n",
    "\n",
    "# Visualização de dados\n",
    "import seaborn as sns\n",
    "from matplotlib import pyplot as plt\n",
    "from matplotlib.gridspec import GridSpec\n",
    "from tabulate import tabulate\n",
    "\n",
    "# Sistema e paths\n",
    "import os\n",
    "from pathlib import Path\n",
    "\n",
    "# Utilidades para notebooks\n",
    "from IPython.display import display\n",
    "from IPython.display import Image\n",
    "from IPython.core.display import HTML\n",
    "\n",
    "# Manipulação de datas\n",
    "import datetime"
   ]
  },
  {
   "cell_type": "markdown",
   "id": "54a0a76a",
   "metadata": {},
   "source": [
    "## 1.2 - Funções Auxiliares"
   ]
  },
  {
   "cell_type": "code",
   "execution_count": 2,
   "id": "b0b8a2f7",
   "metadata": {},
   "outputs": [],
   "source": [
    "class PATHS:\n",
    "    \"\"\"\n",
    "    Caminhos padrão do projeto quando o notebook roda dentro de 'notebooks/'.\n",
    "\n",
    "    Regra:\n",
    "    - Se o cwd termina com 'notebooks', a raiz é o pai (../)\n",
    "    - Caso contrário, assume que já estamos na raiz (útil se abrir o Jupyter na raiz)\n",
    "    \"\"\"\n",
    "    _CWD = Path.cwd()\n",
    "    ROOT = _CWD.parent if _CWD.name == \"notebooks\" else _CWD\n",
    "    RAW  = ROOT / \"data\" / \"raw\"\n",
    "    PROC = ROOT / \"data\" / \"processed\"\n",
    "    INTER = ROOT / \"data\" / \"intermediary\"\n",
    "    REP  = ROOT / \"reports\"\n",
    "    FIG  = REP / \"figures\"\n",
    "\n",
    "def ensure_dirs():\n",
    "    \"\"\"Garante que as pastas principais existam.\"\"\"\n",
    "    for p in [PATHS.RAW, PATHS.INTER, PATHS.PROC, PATHS.REP, PATHS.FIG]:\n",
    "        p.mkdir(parents=True, exist_ok=True)\n",
    "\n",
    "def set_display(max_cols: int = 100, decimals: int = 2):\n",
    "    \"\"\"Ajusta visualização padrão no Pandas/Seaborn para leitura eficiente.\"\"\"\n",
    "    pd.options.display.max_columns = max_cols\n",
    "    fmt = \"{:.\" + str(decimals) + \"f}\"\n",
    "    pd.options.display.float_format = fmt.format\n",
    "    sns.set(style=\"whitegrid\", palette=\"muted\", font_scale=1.1)"
   ]
  },
  {
   "cell_type": "code",
   "execution_count": 3,
   "id": "5ad121b5",
   "metadata": {},
   "outputs": [],
   "source": [
    "# Chamadas de funções\n",
    "ensure_dirs()\n",
    "set_display()"
   ]
  },
  {
   "cell_type": "markdown",
   "id": "7c65baa2",
   "metadata": {},
   "source": [
    "## 1.3 - Carregando os Dados"
   ]
  },
  {
   "cell_type": "code",
   "execution_count": 4,
   "id": "cf8e9952",
   "metadata": {},
   "outputs": [],
   "source": [
    "# Realizo a leitura dos dados através da classe\n",
    "df_lh = pd.read_csv(PATHS.RAW / \"lighthouse_imdb.csv\", low_memory=False)"
   ]
  },
  {
   "cell_type": "markdown",
   "id": "7791eea2",
   "metadata": {},
   "source": [
    "## 1.4 - Descrição dos Dados"
   ]
  },
  {
   "cell_type": "code",
   "execution_count": 5,
   "id": "c6741253",
   "metadata": {},
   "outputs": [],
   "source": [
    "# Cópia da base - Boa prática para evitar modificações sem intenção\n",
    "df1 = df_lh.copy()"
   ]
  },
  {
   "cell_type": "code",
   "execution_count": 6,
   "id": "78b01281",
   "metadata": {},
   "outputs": [
    {
     "name": "stdout",
     "output_type": "stream",
     "text": [
      "Lighthouse: (999, 16)\n"
     ]
    }
   ],
   "source": [
    "print(\"Lighthouse:\", df1.shape)"
   ]
  },
  {
   "cell_type": "code",
   "execution_count": 7,
   "id": "98aa7627",
   "metadata": {},
   "outputs": [
    {
     "name": "stdout",
     "output_type": "stream",
     "text": [
      "Lighthouse: Index(['Unnamed: 0', 'Series_Title', 'Released_Year', 'Certificate', 'Runtime',\n",
      "       'Genre', 'IMDB_Rating', 'Overview', 'Meta_score', 'Director', 'Star1',\n",
      "       'Star2', 'Star3', 'Star4', 'No_of_Votes', 'Gross'],\n",
      "      dtype='object')\n"
     ]
    }
   ],
   "source": [
    "print(\"Lighthouse:\", df1.columns)"
   ]
  },
  {
   "cell_type": "code",
   "execution_count": 8,
   "id": "6400500e",
   "metadata": {},
   "outputs": [
    {
     "name": "stdout",
     "output_type": "stream",
     "text": [
      "\n",
      "Tipos de dados da base Lighthouse:\n",
      " Unnamed: 0         int64\n",
      "Series_Title      object\n",
      "Released_Year     object\n",
      "Certificate       object\n",
      "Runtime           object\n",
      "Genre             object\n",
      "IMDB_Rating      float64\n",
      "Overview          object\n",
      "Meta_score       float64\n",
      "Director          object\n",
      "Star1             object\n",
      "Star2             object\n",
      "Star3             object\n",
      "Star4             object\n",
      "No_of_Votes        int64\n",
      "Gross             object\n",
      "dtype: object\n"
     ]
    }
   ],
   "source": [
    "print(\"\\nTipos de dados da base Lighthouse:\\n\", df1.dtypes)"
   ]
  },
  {
   "cell_type": "code",
   "execution_count": 9,
   "id": "f0a93b01",
   "metadata": {},
   "outputs": [
    {
     "data": {
      "text/html": [
       "<div>\n",
       "<style scoped>\n",
       "    .dataframe tbody tr th:only-of-type {\n",
       "        vertical-align: middle;\n",
       "    }\n",
       "\n",
       "    .dataframe tbody tr th {\n",
       "        vertical-align: top;\n",
       "    }\n",
       "\n",
       "    .dataframe thead th {\n",
       "        text-align: right;\n",
       "    }\n",
       "</style>\n",
       "<table border=\"1\" class=\"dataframe\">\n",
       "  <thead>\n",
       "    <tr style=\"text-align: right;\">\n",
       "      <th></th>\n",
       "      <th>Unnamed: 0</th>\n",
       "      <th>Series_Title</th>\n",
       "      <th>Released_Year</th>\n",
       "      <th>Certificate</th>\n",
       "      <th>Runtime</th>\n",
       "      <th>Genre</th>\n",
       "      <th>IMDB_Rating</th>\n",
       "      <th>Overview</th>\n",
       "      <th>Meta_score</th>\n",
       "      <th>Director</th>\n",
       "      <th>Star1</th>\n",
       "      <th>Star2</th>\n",
       "      <th>Star3</th>\n",
       "      <th>Star4</th>\n",
       "      <th>No_of_Votes</th>\n",
       "      <th>Gross</th>\n",
       "    </tr>\n",
       "  </thead>\n",
       "  <tbody>\n",
       "    <tr>\n",
       "      <th>453</th>\n",
       "      <td>454</td>\n",
       "      <td>The Best Years of Our Lives</td>\n",
       "      <td>1946</td>\n",
       "      <td>Approved</td>\n",
       "      <td>170 min</td>\n",
       "      <td>Drama, Romance, War</td>\n",
       "      <td>8.00</td>\n",
       "      <td>Three World War II veterans return home to sma...</td>\n",
       "      <td>93.00</td>\n",
       "      <td>William Wyler</td>\n",
       "      <td>Myrna Loy</td>\n",
       "      <td>Dana Andrews</td>\n",
       "      <td>Fredric March</td>\n",
       "      <td>Teresa Wright</td>\n",
       "      <td>57259</td>\n",
       "      <td>23,650,000</td>\n",
       "    </tr>\n",
       "    <tr>\n",
       "      <th>793</th>\n",
       "      <td>794</td>\n",
       "      <td>Hedwig and the Angry Inch</td>\n",
       "      <td>2001</td>\n",
       "      <td>R</td>\n",
       "      <td>95 min</td>\n",
       "      <td>Comedy, Drama, Music</td>\n",
       "      <td>7.70</td>\n",
       "      <td>A gender-queer punk-rock singer from East Berl...</td>\n",
       "      <td>85.00</td>\n",
       "      <td>John Cameron Mitchell</td>\n",
       "      <td>John Cameron Mitchell</td>\n",
       "      <td>Miriam Shor</td>\n",
       "      <td>Stephen Trask</td>\n",
       "      <td>Theodore Liscinski</td>\n",
       "      <td>31957</td>\n",
       "      <td>3,029,081</td>\n",
       "    </tr>\n",
       "    <tr>\n",
       "      <th>209</th>\n",
       "      <td>210</td>\n",
       "      <td>Gone Girl</td>\n",
       "      <td>2014</td>\n",
       "      <td>A</td>\n",
       "      <td>149 min</td>\n",
       "      <td>Drama, Mystery, Thriller</td>\n",
       "      <td>8.10</td>\n",
       "      <td>With his wife's disappearance having become th...</td>\n",
       "      <td>79.00</td>\n",
       "      <td>David Fincher</td>\n",
       "      <td>Ben Affleck</td>\n",
       "      <td>Rosamund Pike</td>\n",
       "      <td>Neil Patrick Harris</td>\n",
       "      <td>Tyler Perry</td>\n",
       "      <td>859695</td>\n",
       "      <td>167,767,189</td>\n",
       "    </tr>\n",
       "    <tr>\n",
       "      <th>309</th>\n",
       "      <td>310</td>\n",
       "      <td>The Red Shoes</td>\n",
       "      <td>1948</td>\n",
       "      <td>NaN</td>\n",
       "      <td>135 min</td>\n",
       "      <td>Drama, Music, Romance</td>\n",
       "      <td>8.10</td>\n",
       "      <td>A young ballet dancer is torn between the man ...</td>\n",
       "      <td>NaN</td>\n",
       "      <td>Michael Powell</td>\n",
       "      <td>Emeric Pressburger</td>\n",
       "      <td>Anton Walbrook</td>\n",
       "      <td>Marius Goring</td>\n",
       "      <td>Moira Shearer</td>\n",
       "      <td>30935</td>\n",
       "      <td>10,900,000</td>\n",
       "    </tr>\n",
       "    <tr>\n",
       "      <th>740</th>\n",
       "      <td>741</td>\n",
       "      <td>Le Petit Prince</td>\n",
       "      <td>2015</td>\n",
       "      <td>PG</td>\n",
       "      <td>108 min</td>\n",
       "      <td>Animation, Adventure, Drama</td>\n",
       "      <td>7.70</td>\n",
       "      <td>A little girl lives in a very grown-up world w...</td>\n",
       "      <td>70.00</td>\n",
       "      <td>Mark Osborne</td>\n",
       "      <td>Jeff Bridges</td>\n",
       "      <td>Mackenzie Foy</td>\n",
       "      <td>Rachel McAdams</td>\n",
       "      <td>Marion Cotillard</td>\n",
       "      <td>56720</td>\n",
       "      <td>1,339,152</td>\n",
       "    </tr>\n",
       "  </tbody>\n",
       "</table>\n",
       "</div>"
      ],
      "text/plain": [
       "     Unnamed: 0                 Series_Title Released_Year Certificate  \\\n",
       "453         454  The Best Years of Our Lives          1946    Approved   \n",
       "793         794    Hedwig and the Angry Inch          2001           R   \n",
       "209         210                    Gone Girl          2014           A   \n",
       "309         310                The Red Shoes          1948         NaN   \n",
       "740         741              Le Petit Prince          2015          PG   \n",
       "\n",
       "     Runtime                        Genre  IMDB_Rating  \\\n",
       "453  170 min          Drama, Romance, War         8.00   \n",
       "793   95 min         Comedy, Drama, Music         7.70   \n",
       "209  149 min     Drama, Mystery, Thriller         8.10   \n",
       "309  135 min        Drama, Music, Romance         8.10   \n",
       "740  108 min  Animation, Adventure, Drama         7.70   \n",
       "\n",
       "                                              Overview  Meta_score  \\\n",
       "453  Three World War II veterans return home to sma...       93.00   \n",
       "793  A gender-queer punk-rock singer from East Berl...       85.00   \n",
       "209  With his wife's disappearance having become th...       79.00   \n",
       "309  A young ballet dancer is torn between the man ...         NaN   \n",
       "740  A little girl lives in a very grown-up world w...       70.00   \n",
       "\n",
       "                  Director                  Star1           Star2  \\\n",
       "453          William Wyler              Myrna Loy    Dana Andrews   \n",
       "793  John Cameron Mitchell  John Cameron Mitchell     Miriam Shor   \n",
       "209          David Fincher            Ben Affleck   Rosamund Pike   \n",
       "309         Michael Powell     Emeric Pressburger  Anton Walbrook   \n",
       "740           Mark Osborne           Jeff Bridges   Mackenzie Foy   \n",
       "\n",
       "                   Star3               Star4  No_of_Votes        Gross  \n",
       "453        Fredric March       Teresa Wright        57259   23,650,000  \n",
       "793        Stephen Trask  Theodore Liscinski        31957    3,029,081  \n",
       "209  Neil Patrick Harris         Tyler Perry       859695  167,767,189  \n",
       "309        Marius Goring       Moira Shearer        30935   10,900,000  \n",
       "740       Rachel McAdams    Marion Cotillard        56720    1,339,152  "
      ]
     },
     "metadata": {},
     "output_type": "display_data"
    }
   ],
   "source": [
    "display(df1.sample(5, random_state=42))"
   ]
  },
  {
   "cell_type": "code",
   "execution_count": 10,
   "id": "4a6243df",
   "metadata": {},
   "outputs": [
    {
     "data": {
      "text/plain": [
       "Unnamed: 0       999\n",
       "Series_Title     998\n",
       "Released_Year    100\n",
       "Certificate       16\n",
       "Runtime          140\n",
       "Genre            202\n",
       "IMDB_Rating       16\n",
       "Overview         999\n",
       "Meta_score        63\n",
       "Director         548\n",
       "Star1            659\n",
       "Star2            840\n",
       "Star3            890\n",
       "Star4            938\n",
       "No_of_Votes      998\n",
       "Gross            822\n",
       "dtype: int64"
      ]
     },
     "execution_count": 10,
     "metadata": {},
     "output_type": "execute_result"
    }
   ],
   "source": [
    "df1.nunique(dropna=True)"
   ]
  },
  {
   "cell_type": "code",
   "execution_count": 11,
   "id": "4a7d8579",
   "metadata": {},
   "outputs": [
    {
     "data": {
      "text/plain": [
       "Gross           16.92\n",
       "Meta_score      15.72\n",
       "Certificate     10.11\n",
       "Unnamed: 0       0.00\n",
       "Runtime          0.00\n",
       "Genre            0.00\n",
       "Series_Title     0.00\n",
       "Released_Year    0.00\n",
       "Overview         0.00\n",
       "IMDB_Rating      0.00\n",
       "Star1            0.00\n",
       "Director         0.00\n",
       "Star2            0.00\n",
       "Star3            0.00\n",
       "Star4            0.00\n",
       "No_of_Votes      0.00\n",
       "dtype: float64"
      ]
     },
     "metadata": {},
     "output_type": "display_data"
    }
   ],
   "source": [
    "display(df1.isna().mean().sort_values(ascending=False)*100)"
   ]
  },
  {
   "cell_type": "markdown",
   "id": "7d5e987b",
   "metadata": {},
   "source": [
    "## 1.5 - Pré-limpeza dos dados da Lighthouse (para matching)\n",
    "\n",
    "A partir do diagnóstico por coluna, verificou-se que:\n",
    "1. `Released_Year` aparece como string e eventualmente com sufixos. \n",
    "2. `Runtime` vem com sufixo ‘min’. \n",
    "3. `Gross` usa vírgula como separador de milhar.\n",
    "\n",
    "Nesta pré-limpeza, padronizo apenas esses campos e normalizo strings básicas, gerando colunas derivadas, para não atrapalhar na compração do dataset baixado para enriquecer este. Não foi feito imputações ou tratamento de outliers e de valores ausentes — isso fica para a EDA."
   ]
  },
  {
   "cell_type": "code",
   "execution_count": 12,
   "id": "1541bb1c",
   "metadata": {},
   "outputs": [],
   "source": [
    "df_clean = df1.copy()"
   ]
  },
  {
   "cell_type": "code",
   "execution_count": 13,
   "id": "7f1cb95c",
   "metadata": {},
   "outputs": [],
   "source": [
    "# Removo colunas auxiliares de índice geradas ao salvar CSV através de uma lista com um único drop\n",
    "cols_drop = [c for c in [\"Unnamed: 0\", \"index\"] if c in df_clean.columns]\n",
    "if cols_drop:\n",
    "    df_clean = df_clean.drop(columns=cols_drop)"
   ]
  },
  {
   "cell_type": "code",
   "execution_count": 14,
   "id": "36eeb80d",
   "metadata": {},
   "outputs": [],
   "source": [
    "# Extraio o ano para facilitar joins por (título, ano) e análises por período\n",
    "df_clean[\"Year\"] = (\n",
    "    df_clean[\"Released_Year\"]\n",
    "      .astype(str) # garante aplicação de operação de strings sem quebrar\n",
    "      .str.extract(r\"(\\d{4})\", expand=False) # usa regex para capturar a primeira sequênica de 4 digitos\n",
    "      .astype(\"Int64\") # deixa numérico, o float foi adotado pois aceita NaN caso algum registro não tenha ano\n",
    ")"
   ]
  },
  {
   "cell_type": "code",
   "execution_count": 15,
   "id": "23d27118",
   "metadata": {},
   "outputs": [],
   "source": [
    "# Transformo '142 min' em número para comparar duração entre filmes e usar em modelos\n",
    "df_clean[\"Runtime_min\"] = (\n",
    "    df_clean[\"Runtime\"]\n",
    "      .astype(str)\n",
    "      .str.extract(r\"(\\d+)\", expand=False) # \n",
    "      .astype(float)\n",
    ")"
   ]
  },
  {
   "cell_type": "code",
   "execution_count": 16,
   "id": "7ea42057",
   "metadata": {},
   "outputs": [],
   "source": [
    "# Crio Gross_USD (removendo vírgulas e transformando em float)\n",
    "df_clean[\"Gross_USD\"] = (\n",
    "    df_clean[\"Gross\"]\n",
    "      .astype(str)\n",
    "      .str.replace(\",\", \"\", regex=False) # tira o separador de milhar\n",
    "      .replace({\"nan\": np.nan}) # se veio a string \"nan\", troca por NaN real\n",
    "      .astype(float)\n",
    ")"
   ]
  },
  {
   "cell_type": "code",
   "execution_count": 17,
   "id": "def98f7e",
   "metadata": {},
   "outputs": [],
   "source": [
    "# Normalizo títulos para matching e EDA (minúscula, sem pontuação, sem espaços extras)\n",
    "df_clean[\"title_norm\"] = (\n",
    "    df_clean[\"Series_Title\"]\n",
    "      .astype(str)\n",
    "      .str.lower() # tudo minúsculo\n",
    "      .str.replace(r\"\\s+\", \" \", regex=True) # qualquer sequência de espaços/tab/quebras é substituída por um único espaço\n",
    "      .str.replace(r\"[^\\w\\s]\", \"\", regex=True) # remove pontuação/sinais (mantém letras/dígitos/_ e espaços)\n",
    "      .str.strip()\n",
    ")"
   ]
  },
  {
   "cell_type": "code",
   "execution_count": 18,
   "id": "b79632c1",
   "metadata": {},
   "outputs": [],
   "source": [
    "# Padroniza categóricas comuns (trim [remover espaços em branco] e NaN coerente)\n",
    "## Strings limpas evitam problemas nos groupbys, value_counts e joins futuros\n",
    "for col in [\"Certificate\", \"Genre\", \"Director\", \"Star1\", \"Star2\", \"Star3\", \"Star4\"]:\n",
    "    if col in df_clean.columns:\n",
    "        df_clean[col] = (\n",
    "            df_clean[col]\n",
    "              .astype(str)\n",
    "              .str.strip() # remove espaços sobrando no começo\n",
    "              .replace({\"nan\": np.nan}) # garante que o \"nan\" string vire NaN real\n",
    "        )\n"
   ]
  },
  {
   "cell_type": "code",
   "execution_count": 19,
   "id": "940bb744",
   "metadata": {},
   "outputs": [],
   "source": [
    "# Removo espaços em variáveis categóricas comuns\n",
    "for col in [\"Certificate\", \"Genre\", \"Director\", \"Star1\", \"Star2\", \"Star3\", \"Star4\"]:\n",
    "    if col in df_clean.columns and df_clean[col].dtype == \"O\":\n",
    "        df_clean[col] = df_clean[col].astype(str).str.strip().replace({\"nan\": np.nan})"
   ]
  },
  {
   "cell_type": "code",
   "execution_count": 20,
   "id": "059d48d8",
   "metadata": {},
   "outputs": [
    {
     "name": "stdout",
     "output_type": "stream",
     "text": [
      "Tipos (pós pré-limpeza):\n",
      " Series_Title      object\n",
      "Released_Year     object\n",
      "Certificate       object\n",
      "Runtime           object\n",
      "Genre             object\n",
      "IMDB_Rating      float64\n",
      "Overview          object\n",
      "Meta_score       float64\n",
      "Director          object\n",
      "Star1             object\n",
      "Star2             object\n",
      "Star3             object\n",
      "Star4             object\n",
      "No_of_Votes        int64\n",
      "Gross             object\n",
      "Year               Int64\n",
      "Runtime_min      float64\n",
      "Gross_USD        float64\n",
      "title_norm        object\n",
      "dtype: object\n"
     ]
    }
   ],
   "source": [
    "# Conferindo a pre-limpeza\n",
    "print(\"Tipos (pós pré-limpeza):\\n\", (df_clean.dtypes))"
   ]
  },
  {
   "cell_type": "code",
   "execution_count": 21,
   "id": "ff56bb95",
   "metadata": {},
   "outputs": [
    {
     "name": "stdout",
     "output_type": "stream",
     "text": [
      "\n",
      " Porcentagem de nulos (pós pré-limpeza):\n",
      " Gross_USD       16.92\n",
      "Gross           16.92\n",
      "Meta_score      15.72\n",
      "Certificate     10.11\n",
      "Year             0.10\n",
      "Released_Year    0.00\n",
      "Series_Title     0.00\n",
      "Overview         0.00\n",
      "Runtime          0.00\n",
      "IMDB_Rating      0.00\n",
      "Genre            0.00\n",
      "Star2            0.00\n",
      "Star1            0.00\n",
      "Director         0.00\n",
      "Star3            0.00\n",
      "No_of_Votes      0.00\n",
      "Star4            0.00\n",
      "Runtime_min      0.00\n",
      "title_norm       0.00\n",
      "dtype: float64\n"
     ]
    }
   ],
   "source": [
    "print(\"\\n Porcentagem de nulos (pós pré-limpeza):\\n\", (df_clean.isna().mean().sort_values(ascending=False) * 100))"
   ]
  },
  {
   "cell_type": "code",
   "execution_count": 22,
   "id": "d77999ed",
   "metadata": {},
   "outputs": [
    {
     "data": {
      "text/html": [
       "<div>\n",
       "<style scoped>\n",
       "    .dataframe tbody tr th:only-of-type {\n",
       "        vertical-align: middle;\n",
       "    }\n",
       "\n",
       "    .dataframe tbody tr th {\n",
       "        vertical-align: top;\n",
       "    }\n",
       "\n",
       "    .dataframe thead th {\n",
       "        text-align: right;\n",
       "    }\n",
       "</style>\n",
       "<table border=\"1\" class=\"dataframe\">\n",
       "  <thead>\n",
       "    <tr style=\"text-align: right;\">\n",
       "      <th></th>\n",
       "      <th>Series_Title</th>\n",
       "      <th>Released_Year</th>\n",
       "      <th>Certificate</th>\n",
       "      <th>Runtime</th>\n",
       "      <th>Genre</th>\n",
       "      <th>IMDB_Rating</th>\n",
       "      <th>Overview</th>\n",
       "      <th>Meta_score</th>\n",
       "      <th>Director</th>\n",
       "      <th>Star1</th>\n",
       "      <th>Star2</th>\n",
       "      <th>Star3</th>\n",
       "      <th>Star4</th>\n",
       "      <th>No_of_Votes</th>\n",
       "      <th>Gross</th>\n",
       "      <th>Year</th>\n",
       "      <th>Runtime_min</th>\n",
       "      <th>Gross_USD</th>\n",
       "      <th>title_norm</th>\n",
       "    </tr>\n",
       "  </thead>\n",
       "  <tbody>\n",
       "    <tr>\n",
       "      <th>0</th>\n",
       "      <td>The Godfather</td>\n",
       "      <td>1972</td>\n",
       "      <td>A</td>\n",
       "      <td>175 min</td>\n",
       "      <td>Crime, Drama</td>\n",
       "      <td>9.20</td>\n",
       "      <td>An organized crime dynasty's aging patriarch t...</td>\n",
       "      <td>100.00</td>\n",
       "      <td>Francis Ford Coppola</td>\n",
       "      <td>Marlon Brando</td>\n",
       "      <td>Al Pacino</td>\n",
       "      <td>James Caan</td>\n",
       "      <td>Diane Keaton</td>\n",
       "      <td>1620367</td>\n",
       "      <td>134,966,411</td>\n",
       "      <td>1972</td>\n",
       "      <td>175.00</td>\n",
       "      <td>134966411.00</td>\n",
       "      <td>the godfather</td>\n",
       "    </tr>\n",
       "    <tr>\n",
       "      <th>1</th>\n",
       "      <td>The Dark Knight</td>\n",
       "      <td>2008</td>\n",
       "      <td>UA</td>\n",
       "      <td>152 min</td>\n",
       "      <td>Action, Crime, Drama</td>\n",
       "      <td>9.00</td>\n",
       "      <td>When the menace known as the Joker wreaks havo...</td>\n",
       "      <td>84.00</td>\n",
       "      <td>Christopher Nolan</td>\n",
       "      <td>Christian Bale</td>\n",
       "      <td>Heath Ledger</td>\n",
       "      <td>Aaron Eckhart</td>\n",
       "      <td>Michael Caine</td>\n",
       "      <td>2303232</td>\n",
       "      <td>534,858,444</td>\n",
       "      <td>2008</td>\n",
       "      <td>152.00</td>\n",
       "      <td>534858444.00</td>\n",
       "      <td>the dark knight</td>\n",
       "    </tr>\n",
       "    <tr>\n",
       "      <th>2</th>\n",
       "      <td>The Godfather: Part II</td>\n",
       "      <td>1974</td>\n",
       "      <td>A</td>\n",
       "      <td>202 min</td>\n",
       "      <td>Crime, Drama</td>\n",
       "      <td>9.00</td>\n",
       "      <td>The early life and career of Vito Corleone in ...</td>\n",
       "      <td>90.00</td>\n",
       "      <td>Francis Ford Coppola</td>\n",
       "      <td>Al Pacino</td>\n",
       "      <td>Robert De Niro</td>\n",
       "      <td>Robert Duvall</td>\n",
       "      <td>Diane Keaton</td>\n",
       "      <td>1129952</td>\n",
       "      <td>57,300,000</td>\n",
       "      <td>1974</td>\n",
       "      <td>202.00</td>\n",
       "      <td>57300000.00</td>\n",
       "      <td>the godfather part ii</td>\n",
       "    </tr>\n",
       "  </tbody>\n",
       "</table>\n",
       "</div>"
      ],
      "text/plain": [
       "             Series_Title Released_Year Certificate  Runtime  \\\n",
       "0           The Godfather          1972           A  175 min   \n",
       "1         The Dark Knight          2008          UA  152 min   \n",
       "2  The Godfather: Part II          1974           A  202 min   \n",
       "\n",
       "                  Genre  IMDB_Rating  \\\n",
       "0          Crime, Drama         9.20   \n",
       "1  Action, Crime, Drama         9.00   \n",
       "2          Crime, Drama         9.00   \n",
       "\n",
       "                                            Overview  Meta_score  \\\n",
       "0  An organized crime dynasty's aging patriarch t...      100.00   \n",
       "1  When the menace known as the Joker wreaks havo...       84.00   \n",
       "2  The early life and career of Vito Corleone in ...       90.00   \n",
       "\n",
       "               Director           Star1           Star2          Star3  \\\n",
       "0  Francis Ford Coppola   Marlon Brando       Al Pacino     James Caan   \n",
       "1     Christopher Nolan  Christian Bale    Heath Ledger  Aaron Eckhart   \n",
       "2  Francis Ford Coppola       Al Pacino  Robert De Niro  Robert Duvall   \n",
       "\n",
       "           Star4  No_of_Votes        Gross  Year  Runtime_min    Gross_USD  \\\n",
       "0   Diane Keaton      1620367  134,966,411  1972       175.00 134966411.00   \n",
       "1  Michael Caine      2303232  534,858,444  2008       152.00 534858444.00   \n",
       "2   Diane Keaton      1129952   57,300,000  1974       202.00  57300000.00   \n",
       "\n",
       "              title_norm  \n",
       "0          the godfather  \n",
       "1        the dark knight  \n",
       "2  the godfather part ii  "
      ]
     },
     "metadata": {},
     "output_type": "display_data"
    }
   ],
   "source": [
    "display(df_clean.head(3))"
   ]
  },
  {
   "cell_type": "code",
   "execution_count": 23,
   "id": "78009ff8",
   "metadata": {},
   "outputs": [
    {
     "name": "stdout",
     "output_type": "stream",
     "text": [
      "Duplicatas por (title_norm, Year): 0\n"
     ]
    }
   ],
   "source": [
    "# Testo as duplicatas para match/merge fuituro (por título e ano)\n",
    "dup_mask = df_clean.duplicated(subset=[\"title_norm\", \"Year\"], keep=False)\n",
    "n_dups = dup_mask.sum()\n",
    "print(f\"Duplicatas por (title_norm, Year): {n_dups}\")"
   ]
  },
  {
   "cell_type": "markdown",
   "id": "e8ae427f",
   "metadata": {},
   "source": [
    "## 1.6 - Salvando dataset limpo"
   ]
  },
  {
   "cell_type": "code",
   "execution_count": 24,
   "id": "e27a0e9b",
   "metadata": {},
   "outputs": [
    {
     "name": "stdout",
     "output_type": "stream",
     "text": [
      "Arquivo salvo em: /home/emersds/repos_projetos/project_lighthouse/data/intermediary/lighthouse_clean.csv\n"
     ]
    }
   ],
   "source": [
    "# Salvo o dataset limpo e confirmo caminho absoluto\n",
    "out_path = PATHS.INTER / \"lighthouse_clean.csv\"\n",
    "df_clean.to_csv(out_path, index=False)\n",
    "print(f\"Arquivo salvo em: {out_path.resolve()}\")"
   ]
  },
  {
   "cell_type": "markdown",
   "id": "fdda26d1",
   "metadata": {},
   "source": [
    "# 1.7 - Decisões e Próximos passos\n",
    "\n",
    "**Decisões nesta etapa**\n",
    "- Mantive os nomes originais das colunas para garantir compatibilidade com a base Kaggle.  \n",
    "- Criei colunas derivadas mínimas (`Year`, `Runtime_min`, `Gross_USD`, `title_norm`) para facilitar análises futuras e possível match entre bases.  \n",
    "- Nesta etapa não tratei valores ausentes nem outliers; isso fica para a EDA, quando será possível avaliar impacto e estratégia de imputação.  \n",
    "- Salvei a versão pré-limpa em `data/processed/lighthouse_clean.csv`.\n",
    "\n",
    "**Próximos passos**\n",
    "- Carregar e pré-limpar a base Kaggle (`movies_metadata`): criar Year, `title_norm` e `original_title_norm`, converter budget, revenue, runtime, vote_*.  \n",
    "- Gerar chaves de match: versões deduplicadas por `(title_norm, Year)` e `(original_title_norm, Year)` como fallback.  \n",
    "- Fazer o matching LH - Kaggle para enriquecer a base e salvar `lighthouse_enriched.csv`.  \n",
    "- Rodar EDA e métricas descritivas em cima da base enriquecida.  \n",
    "- Registrar riscos/pendências: `Gross` ausente em parte dos filmes; títulos com variações; anos faltantes em alguns registros.  \n"
   ]
  }
 ],
 "metadata": {
  "kernelspec": {
   "display_name": "project_lighthouse",
   "language": "python",
   "name": "python3"
  },
  "language_info": {
   "codemirror_mode": {
    "name": "ipython",
    "version": 3
   },
   "file_extension": ".py",
   "mimetype": "text/x-python",
   "name": "python",
   "nbconvert_exporter": "python",
   "pygments_lexer": "ipython3",
   "version": "3.10.14"
  }
 },
 "nbformat": 4,
 "nbformat_minor": 5
}
