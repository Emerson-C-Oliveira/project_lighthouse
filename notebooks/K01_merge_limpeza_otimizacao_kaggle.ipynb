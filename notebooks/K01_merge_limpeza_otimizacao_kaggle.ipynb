{
 "cells": [
  {
   "cell_type": "markdown",
   "id": "529d4423",
   "metadata": {},
   "source": [
    "# K1 — 0.0 — OTIMIZAÇÃO - BASE DE DADOS EXPANDIDA\n",
    "**Objetivo:** Criar uma versão Kaggle Otimizada consolidando informações dispersas em várias tabelas, com foco em colunas que são comparáveis às da Lighthouse (para consistência) e em colunas adicionais úteis para análises/modelos (para enriquecer).\n",
    "\n",
    "**Saída principal:** Dataset kaggle otimizado  `data/processed/kaggle_otimizado.csv`"
   ]
  },
  {
   "cell_type": "markdown",
   "id": "797d8884",
   "metadata": {},
   "source": [
    "# K1 — 1.0 — IMPORTS"
   ]
  },
  {
   "cell_type": "code",
   "execution_count": 1,
   "id": "7da866aa",
   "metadata": {},
   "outputs": [],
   "source": [
    "# =====================================================\n",
    "# Imports\n",
    "# =====================================================\n",
    "\n",
    "# Manipulação e análise de dados\n",
    "import math\n",
    "import numpy as np\n",
    "import pandas as pd\n",
    "import re\n",
    "from pathlib import Path\n",
    "import json, ast\n",
    "\n",
    "# Visualização de dados\n",
    "import seaborn as sns\n",
    "from matplotlib import pyplot as plt\n",
    "from matplotlib.gridspec import GridSpec\n",
    "from tabulate import tabulate\n",
    "\n",
    "# Sistema e paths\n",
    "import os\n",
    "from pathlib import Path\n",
    "\n",
    "# Utilidades para notebooks\n",
    "from IPython.display import display\n",
    "from IPython.display import Image\n",
    "from IPython.core.display import HTML\n",
    "\n",
    "# Manipulação de datas\n",
    "import datetime\n",
    "\n",
    "# Supress warnings\n",
    "import warnings"
   ]
  },
  {
   "cell_type": "code",
   "execution_count": 2,
   "id": "f56e4c07",
   "metadata": {},
   "outputs": [],
   "source": [
    "warnings.filterwarnings('ignore')"
   ]
  },
  {
   "cell_type": "markdown",
   "id": "10d6c393",
   "metadata": {},
   "source": [
    "# K1 — 2.0 — FUNÇÕES AUXILIARES"
   ]
  },
  {
   "cell_type": "code",
   "execution_count": 3,
   "id": "9428fe18",
   "metadata": {},
   "outputs": [],
   "source": [
    "# ==== Caminhos & Display ====\n",
    "class PATHS:\n",
    "    \"\"\"\n",
    "    Caminhos padrão do projeto quando o notebook roda dentro de 'notebooks/'.\n",
    "\n",
    "    Regra:\n",
    "    - Se o cwd termina com 'notebooks', a raiz é o pai (../)\n",
    "    - Caso contrário, assume que já estamos na raiz (útil se abrir o Jupyter na raiz)\n",
    "    \"\"\"\n",
    "    _CWD = Path.cwd()\n",
    "    ROOT = _CWD.parent if _CWD.name == \"notebooks\" else _CWD\n",
    "    RAW  = ROOT / \"data\" / \"raw\"\n",
    "    PROC = ROOT / \"data\" / \"processed\"\n",
    "    INTER = ROOT / \"data\" / \"intermediary\"\n",
    "    REP  = ROOT / \"reports\"\n",
    "    FIG  = REP / \"figures\"\n",
    "\n",
    "def ensure_dirs():\n",
    "    \"\"\"Garante que as pastas principais existam.\"\"\"\n",
    "    for p in [PATHS.RAW, PATHS.INTER, PATHS.PROC, PATHS.REP, PATHS.FIG]:\n",
    "        p.mkdir(parents=True, exist_ok=True)\n",
    "\n",
    "def set_display(max_cols: int = 100, decimals: int = 2):\n",
    "    \"\"\"Ajusta visualização padrão no Pandas/Seaborn para leitura eficiente.\"\"\"\n",
    "    pd.options.display.max_columns = max_cols\n",
    "    fmt = \"{:.\" + str(decimals) + \"f}\"\n",
    "    pd.options.display.float_format = fmt.format\n",
    "    sns.set(style=\"whitegrid\", palette=\"muted\", font_scale=1.1)\n",
    "\n",
    "# ==== Parsing & Normalização ====\n",
    "def normalize_title(s):\n",
    "    \"\"\"Normaliza título: minúsculas, sem pontuação, sem espaços extras.\"\"\"\n",
    "    if pd.isna(s):\n",
    "        return np.nan\n",
    "    s = s.lower()\n",
    "    s = re.sub(r\"\\s+\", \" \", s)\n",
    "    s = re.sub(r\"[^\\w\\s]\", \"\", s)\n",
    "    return s.strip()\n",
    "\n",
    "def parse_year(x):\n",
    "    \"\"\"Extrai o primeiro ano encontrado (ex.: '1994' ou '1994(I)').\"\"\"\n",
    "    if pd.isna(x):\n",
    "        return pd.NA\n",
    "    m = re.search(r\"\\d{4}\", str(x))\n",
    "    return int(m.group()) if m else pd.NA\n",
    "\n",
    "def to_numeric_safe(series):\n",
    "    \"\"\"Converte para numérico com 'coerce' (incompatíveis viram NaN).\"\"\"\n",
    "    return pd.to_numeric(series, errors=\"coerce\")\n",
    "\n",
    "# ==== Deduplicação ====\n",
    "def dedup_by_key(df, keys, score_col=\"vote_count\"):\n",
    "    \"\"\"\n",
    "    Se houver múltiplas linhas para a mesma chave, mantém a de maior `score_col`.\n",
    "    Ex.: ao agrupar por (title_norm, Year), fica a linha com maior número de votos.\n",
    "    \"\"\"\n",
    "    tmp = df.copy()\n",
    "    tmp[score_col] = to_numeric_safe(tmp[score_col]) if score_col in tmp.columns else 0\n",
    "    tmp = tmp.sort_values(by=[score_col], ascending=False)\n",
    "    return tmp.drop_duplicates(subset=keys, keep=\"first\")"
   ]
  },
  {
   "cell_type": "code",
   "execution_count": 4,
   "id": "8017a54b",
   "metadata": {},
   "outputs": [],
   "source": [
    "# Chamo as de caminhos e display\n",
    "ensure_dirs()\n",
    "set_display()"
   ]
  },
  {
   "cell_type": "markdown",
   "id": "c85bfb10",
   "metadata": {},
   "source": [
    "# K1 — 3.0 — CARREGAMENTO DOS DADOS"
   ]
  },
  {
   "cell_type": "code",
   "execution_count": 5,
   "id": "963f8f16",
   "metadata": {},
   "outputs": [],
   "source": [
    "# Realizo a leitura dos dados através da classe\n",
    "kc = pd.read_csv(PATHS.RAW / \"kaggle_credits.csv\", low_memory=False)\n",
    "kk = pd.read_csv(PATHS.RAW / \"kaggle_keywords.csv\", low_memory=False)          \n",
    "kl = pd.read_csv(PATHS.RAW / \"kaggle_links.csv\", low_memory=False)  \n",
    "kmm = pd.read_csv(PATHS.RAW / \"kaggle_movies_metadata.csv\", low_memory=False)  \n",
    "kr = pd.read_csv(PATHS.RAW / \"kaggle_ratings.csv\", low_memory=False)  "
   ]
  },
  {
   "cell_type": "markdown",
   "id": "f2e8ebcc",
   "metadata": {},
   "source": [
    "# K1 — 4.0 — MERGE DAS TABELAS"
   ]
  },
  {
   "cell_type": "markdown",
   "id": "09c17b2f",
   "metadata": {},
   "source": [
    "## K1 — 4.1 — Incorporando Diretor e Atores Principais"
   ]
  },
  {
   "cell_type": "code",
   "execution_count": 6,
   "id": "6a0149a0",
   "metadata": {},
   "outputs": [
    {
     "data": {
      "text/html": [
       "<div>\n",
       "<style scoped>\n",
       "    .dataframe tbody tr th:only-of-type {\n",
       "        vertical-align: middle;\n",
       "    }\n",
       "\n",
       "    .dataframe tbody tr th {\n",
       "        vertical-align: top;\n",
       "    }\n",
       "\n",
       "    .dataframe thead th {\n",
       "        text-align: right;\n",
       "    }\n",
       "</style>\n",
       "<table border=\"1\" class=\"dataframe\">\n",
       "  <thead>\n",
       "    <tr style=\"text-align: right;\">\n",
       "      <th></th>\n",
       "      <th>id</th>\n",
       "      <th>director</th>\n",
       "      <th>star1</th>\n",
       "      <th>star2</th>\n",
       "      <th>star3</th>\n",
       "      <th>star4</th>\n",
       "    </tr>\n",
       "  </thead>\n",
       "  <tbody>\n",
       "    <tr>\n",
       "      <th>0</th>\n",
       "      <td>862</td>\n",
       "      <td>John Lasseter</td>\n",
       "      <td>Tom Hanks</td>\n",
       "      <td>Tim Allen</td>\n",
       "      <td>Don Rickles</td>\n",
       "      <td>Jim Varney</td>\n",
       "    </tr>\n",
       "    <tr>\n",
       "      <th>1</th>\n",
       "      <td>8844</td>\n",
       "      <td>Joe Johnston</td>\n",
       "      <td>Robin Williams</td>\n",
       "      <td>Jonathan Hyde</td>\n",
       "      <td>Kirsten Dunst</td>\n",
       "      <td>Bradley Pierce</td>\n",
       "    </tr>\n",
       "    <tr>\n",
       "      <th>2</th>\n",
       "      <td>15602</td>\n",
       "      <td>Howard Deutch</td>\n",
       "      <td>Walter Matthau</td>\n",
       "      <td>Jack Lemmon</td>\n",
       "      <td>Ann-Margret</td>\n",
       "      <td>Sophia Loren</td>\n",
       "    </tr>\n",
       "    <tr>\n",
       "      <th>3</th>\n",
       "      <td>31357</td>\n",
       "      <td>Forest Whitaker</td>\n",
       "      <td>Whitney Houston</td>\n",
       "      <td>Angela Bassett</td>\n",
       "      <td>Loretta Devine</td>\n",
       "      <td>Lela Rochon</td>\n",
       "    </tr>\n",
       "    <tr>\n",
       "      <th>4</th>\n",
       "      <td>11862</td>\n",
       "      <td>Charles Shyer</td>\n",
       "      <td>Steve Martin</td>\n",
       "      <td>Diane Keaton</td>\n",
       "      <td>Martin Short</td>\n",
       "      <td>Kimberly Williams-Paisley</td>\n",
       "    </tr>\n",
       "  </tbody>\n",
       "</table>\n",
       "</div>"
      ],
      "text/plain": [
       "      id         director            star1           star2           star3  \\\n",
       "0    862    John Lasseter        Tom Hanks       Tim Allen     Don Rickles   \n",
       "1   8844     Joe Johnston   Robin Williams   Jonathan Hyde   Kirsten Dunst   \n",
       "2  15602    Howard Deutch   Walter Matthau     Jack Lemmon     Ann-Margret   \n",
       "3  31357  Forest Whitaker  Whitney Houston  Angela Bassett  Loretta Devine   \n",
       "4  11862    Charles Shyer     Steve Martin    Diane Keaton    Martin Short   \n",
       "\n",
       "                       star4  \n",
       "0                 Jim Varney  \n",
       "1             Bradley Pierce  \n",
       "2               Sophia Loren  \n",
       "3                Lela Rochon  \n",
       "4  Kimberly Williams-Paisley  "
      ]
     },
     "metadata": {},
     "output_type": "display_data"
    }
   ],
   "source": [
    "# Faço uma cópia da tabela de credits\n",
    "credits = kc.copy()\n",
    "\n",
    "# Converto colunas de string JSON para listas/dicionários Python\n",
    "for col in [\"cast\", \"crew\"]:\n",
    "    credits[col] = credits[col].map(lambda x: ast.literal_eval(x) if pd.notna(x) else [])\n",
    "\n",
    "# Extraio o diretor\n",
    "def get_director(crew_list):\n",
    "    for person in crew_list:\n",
    "        if person.get(\"job\") == \"Director\":\n",
    "            return person.get(\"name\")\n",
    "    return np.nan\n",
    "\n",
    "credits[\"director\"] = credits[\"crew\"].map(get_director)\n",
    "\n",
    "# Extraio até 4 atores principais\n",
    "def get_actors(cast_list, top_n=4):\n",
    "    names = [person.get(\"name\") for person in cast_list[:top_n]]\n",
    "    while len(names) < top_n:\n",
    "        names.append(np.nan)  # preenche se tiver menos de 4\n",
    "    return names\n",
    "\n",
    "actors_expanded = credits[\"cast\"].map(lambda x: get_actors(x, top_n=4))\n",
    "actors_df = pd.DataFrame(actors_expanded.tolist(), columns=[\"star1\",\"star2\",\"star3\",\"star4\"])\n",
    "\n",
    "# Junto no DataFrame credits\n",
    "credits = pd.concat([credits[[\"id\",\"director\"]], actors_df], axis=1)\n",
    "\n",
    "display(credits.head())"
   ]
  },
  {
   "cell_type": "code",
   "execution_count": 7,
   "id": "7021091c",
   "metadata": {},
   "outputs": [],
   "source": [
    "# Padronizo a chave de merge entre as tabelas para evitar erros\n",
    "kmm[\"id\"] = pd.to_numeric(kmm[\"id\"], errors=\"coerce\").astype(\"Int64\")\n",
    "credits[\"id\"] = pd.to_numeric(credits[\"id\"], errors=\"coerce\").astype(\"Int64\")"
   ]
  },
  {
   "cell_type": "code",
   "execution_count": 8,
   "id": "578168ad",
   "metadata": {},
   "outputs": [
    {
     "name": "stdout",
     "output_type": "stream",
     "text": [
      "kmm id nulos: 3\n",
      "credits id nulos: 0\n"
     ]
    }
   ],
   "source": [
    "print(\"kmm id nulos:\", kmm[\"id\"].isna().sum())\n",
    "print(\"credits id nulos:\", credits[\"id\"].isna().sum())"
   ]
  },
  {
   "cell_type": "code",
   "execution_count": 9,
   "id": "3d9ff4e4",
   "metadata": {},
   "outputs": [],
   "source": [
    "# Junto as tabelas\n",
    "kmm_credits = kmm.merge(credits, on=\"id\", how=\"left\")"
   ]
  },
  {
   "cell_type": "code",
   "execution_count": 10,
   "id": "4854edd0",
   "metadata": {},
   "outputs": [
    {
     "name": "stdout",
     "output_type": "stream",
     "text": [
      "(45542, 29)\n",
      "      id             title       director           star1          star2  \\\n",
      "0    862         Toy Story  John Lasseter       Tom Hanks      Tim Allen   \n",
      "1   8844           Jumanji   Joe Johnston  Robin Williams  Jonathan Hyde   \n",
      "2  15602  Grumpier Old Men  Howard Deutch  Walter Matthau    Jack Lemmon   \n",
      "\n",
      "           star3           star4  \n",
      "0    Don Rickles      Jim Varney  \n",
      "1  Kirsten Dunst  Bradley Pierce  \n",
      "2    Ann-Margret    Sophia Loren  \n",
      "Cobertura com diretor: 0.9804356418251284\n"
     ]
    }
   ],
   "source": [
    "# Realizo checagem rápida\n",
    "print(kmm_credits.shape)\n",
    "print(kmm_credits[[\"id\",\"title\",\"director\",\"star1\",\"star2\",\"star3\",\"star4\"]].head(3))\n",
    "print(\"Cobertura com diretor:\", kmm_credits[\"director\"].notna().mean())"
   ]
  },
  {
   "cell_type": "markdown",
   "id": "448370ba",
   "metadata": {},
   "source": [
    "## K1 — 4.2 — Incorporando Ratings dos Filmes"
   ]
  },
  {
   "cell_type": "code",
   "execution_count": 11,
   "id": "9fac6a1e",
   "metadata": {},
   "outputs": [
    {
     "name": "stdout",
     "output_type": "stream",
     "text": [
      "Links shape: (45843, 4)\n"
     ]
    },
    {
     "data": {
      "text/html": [
       "<div>\n",
       "<style scoped>\n",
       "    .dataframe tbody tr th:only-of-type {\n",
       "        vertical-align: middle;\n",
       "    }\n",
       "\n",
       "    .dataframe tbody tr th {\n",
       "        vertical-align: top;\n",
       "    }\n",
       "\n",
       "    .dataframe thead th {\n",
       "        text-align: right;\n",
       "    }\n",
       "</style>\n",
       "<table border=\"1\" class=\"dataframe\">\n",
       "  <thead>\n",
       "    <tr style=\"text-align: right;\">\n",
       "      <th></th>\n",
       "      <th>movieId</th>\n",
       "      <th>imdbId</th>\n",
       "      <th>tmdbId</th>\n",
       "      <th>imdb_id</th>\n",
       "    </tr>\n",
       "  </thead>\n",
       "  <tbody>\n",
       "    <tr>\n",
       "      <th>0</th>\n",
       "      <td>1</td>\n",
       "      <td>114709</td>\n",
       "      <td>862.00</td>\n",
       "      <td>tt0114709</td>\n",
       "    </tr>\n",
       "    <tr>\n",
       "      <th>1</th>\n",
       "      <td>2</td>\n",
       "      <td>113497</td>\n",
       "      <td>8844.00</td>\n",
       "      <td>tt0113497</td>\n",
       "    </tr>\n",
       "    <tr>\n",
       "      <th>2</th>\n",
       "      <td>3</td>\n",
       "      <td>113228</td>\n",
       "      <td>15602.00</td>\n",
       "      <td>tt0113228</td>\n",
       "    </tr>\n",
       "  </tbody>\n",
       "</table>\n",
       "</div>"
      ],
      "text/plain": [
       "   movieId  imdbId   tmdbId    imdb_id\n",
       "0        1  114709   862.00  tt0114709\n",
       "1        2  113497  8844.00  tt0113497\n",
       "2        3  113228 15602.00  tt0113228"
      ]
     },
     "metadata": {},
     "output_type": "display_data"
    },
    {
     "name": "stdout",
     "output_type": "stream",
     "text": [
      "Ratings agregados: (45115, 3)\n"
     ]
    },
    {
     "data": {
      "text/html": [
       "<div>\n",
       "<style scoped>\n",
       "    .dataframe tbody tr th:only-of-type {\n",
       "        vertical-align: middle;\n",
       "    }\n",
       "\n",
       "    .dataframe tbody tr th {\n",
       "        vertical-align: top;\n",
       "    }\n",
       "\n",
       "    .dataframe thead th {\n",
       "        text-align: right;\n",
       "    }\n",
       "</style>\n",
       "<table border=\"1\" class=\"dataframe\">\n",
       "  <thead>\n",
       "    <tr style=\"text-align: right;\">\n",
       "      <th></th>\n",
       "      <th>movieId</th>\n",
       "      <th>mean_rating</th>\n",
       "      <th>num_ratings</th>\n",
       "    </tr>\n",
       "  </thead>\n",
       "  <tbody>\n",
       "    <tr>\n",
       "      <th>0</th>\n",
       "      <td>1</td>\n",
       "      <td>3.89</td>\n",
       "      <td>66008</td>\n",
       "    </tr>\n",
       "    <tr>\n",
       "      <th>1</th>\n",
       "      <td>2</td>\n",
       "      <td>3.24</td>\n",
       "      <td>26060</td>\n",
       "    </tr>\n",
       "    <tr>\n",
       "      <th>2</th>\n",
       "      <td>3</td>\n",
       "      <td>3.18</td>\n",
       "      <td>15497</td>\n",
       "    </tr>\n",
       "  </tbody>\n",
       "</table>\n",
       "</div>"
      ],
      "text/plain": [
       "   movieId  mean_rating  num_ratings\n",
       "0        1         3.89        66008\n",
       "1        2         3.24        26060\n",
       "2        3         3.18        15497"
      ]
     },
     "metadata": {},
     "output_type": "display_data"
    },
    {
     "name": "stdout",
     "output_type": "stream",
     "text": [
      "Links + Ratings: (45843, 6)\n"
     ]
    },
    {
     "data": {
      "text/html": [
       "<div>\n",
       "<style scoped>\n",
       "    .dataframe tbody tr th:only-of-type {\n",
       "        vertical-align: middle;\n",
       "    }\n",
       "\n",
       "    .dataframe tbody tr th {\n",
       "        vertical-align: top;\n",
       "    }\n",
       "\n",
       "    .dataframe thead th {\n",
       "        text-align: right;\n",
       "    }\n",
       "</style>\n",
       "<table border=\"1\" class=\"dataframe\">\n",
       "  <thead>\n",
       "    <tr style=\"text-align: right;\">\n",
       "      <th></th>\n",
       "      <th>movieId</th>\n",
       "      <th>imdbId</th>\n",
       "      <th>tmdbId</th>\n",
       "      <th>imdb_id</th>\n",
       "      <th>mean_rating</th>\n",
       "      <th>num_ratings</th>\n",
       "    </tr>\n",
       "  </thead>\n",
       "  <tbody>\n",
       "    <tr>\n",
       "      <th>0</th>\n",
       "      <td>1</td>\n",
       "      <td>114709</td>\n",
       "      <td>862.00</td>\n",
       "      <td>tt0114709</td>\n",
       "      <td>3.89</td>\n",
       "      <td>66008.00</td>\n",
       "    </tr>\n",
       "    <tr>\n",
       "      <th>1</th>\n",
       "      <td>2</td>\n",
       "      <td>113497</td>\n",
       "      <td>8844.00</td>\n",
       "      <td>tt0113497</td>\n",
       "      <td>3.24</td>\n",
       "      <td>26060.00</td>\n",
       "    </tr>\n",
       "    <tr>\n",
       "      <th>2</th>\n",
       "      <td>3</td>\n",
       "      <td>113228</td>\n",
       "      <td>15602.00</td>\n",
       "      <td>tt0113228</td>\n",
       "      <td>3.18</td>\n",
       "      <td>15497.00</td>\n",
       "    </tr>\n",
       "  </tbody>\n",
       "</table>\n",
       "</div>"
      ],
      "text/plain": [
       "   movieId  imdbId   tmdbId    imdb_id  mean_rating  num_ratings\n",
       "0        1  114709   862.00  tt0114709         3.89     66008.00\n",
       "1        2  113497  8844.00  tt0113497         3.24     26060.00\n",
       "2        3  113228 15602.00  tt0113228         3.18     15497.00"
      ]
     },
     "metadata": {},
     "output_type": "display_data"
    },
    {
     "name": "stdout",
     "output_type": "stream",
     "text": [
      "Base final (com ratings): (45542, 31)\n"
     ]
    }
   ],
   "source": [
    "# Preparo a tabela links: alinhar imdbId com formato 'ttxxxxx'\n",
    "links = kl.copy()\n",
    "links[\"imdb_id\"] = \"tt\" + links[\"imdbId\"].astype(str).str.zfill(7)\n",
    "\n",
    "print(\"Links shape:\", links.shape)\n",
    "display(links.head(3))\n",
    "\n",
    "# Agrego os ratings por filme (vários usuários deram notas para o mesmo filme)\n",
    "ratings_agg = (\n",
    "    kr.groupby(\"movieId\")[\"rating\"]\n",
    "       .agg(mean_rating=\"mean\", num_ratings=\"count\")\n",
    "       .reset_index()\n",
    ")\n",
    "\n",
    "print(\"Ratings agregados:\", ratings_agg.shape)\n",
    "display(ratings_agg.head(3))\n",
    "\n",
    "# Junto os links com ratings\n",
    "links_ratings = links.merge(ratings_agg, on=\"movieId\", how=\"left\")\n",
    "\n",
    "print(\"Links + Ratings:\", links_ratings.shape)\n",
    "display(links_ratings.head(3))\n",
    "\n",
    "# Junto na base principal (kmm_credits) atrvés do links_ratings\n",
    "kmm_full = kmm_credits.merge(\n",
    "    links_ratings[[\"imdb_id\",\"mean_rating\",\"num_ratings\"]],\n",
    "    on=\"imdb_id\",\n",
    "    how=\"left\"\n",
    ")\n",
    "\n",
    "print(\"Base final (com ratings):\", kmm_full.shape)"
   ]
  },
  {
   "cell_type": "code",
   "execution_count": 12,
   "id": "6aaa54eb",
   "metadata": {},
   "outputs": [
    {
     "name": "stdout",
     "output_type": "stream",
     "text": [
      "Cobertura de filmes com ratings: 98.2%\n"
     ]
    },
    {
     "data": {
      "text/html": [
       "<div>\n",
       "<style scoped>\n",
       "    .dataframe tbody tr th:only-of-type {\n",
       "        vertical-align: middle;\n",
       "    }\n",
       "\n",
       "    .dataframe tbody tr th {\n",
       "        vertical-align: top;\n",
       "    }\n",
       "\n",
       "    .dataframe thead th {\n",
       "        text-align: right;\n",
       "    }\n",
       "</style>\n",
       "<table border=\"1\" class=\"dataframe\">\n",
       "  <thead>\n",
       "    <tr style=\"text-align: right;\">\n",
       "      <th></th>\n",
       "      <th>adult</th>\n",
       "      <th>belongs_to_collection</th>\n",
       "      <th>budget</th>\n",
       "      <th>genres</th>\n",
       "      <th>homepage</th>\n",
       "      <th>id</th>\n",
       "      <th>imdb_id</th>\n",
       "      <th>original_language</th>\n",
       "      <th>original_title</th>\n",
       "      <th>overview</th>\n",
       "      <th>popularity</th>\n",
       "      <th>poster_path</th>\n",
       "      <th>production_companies</th>\n",
       "      <th>production_countries</th>\n",
       "      <th>release_date</th>\n",
       "      <th>revenue</th>\n",
       "      <th>runtime</th>\n",
       "      <th>spoken_languages</th>\n",
       "      <th>status</th>\n",
       "      <th>tagline</th>\n",
       "      <th>title</th>\n",
       "      <th>video</th>\n",
       "      <th>vote_average</th>\n",
       "      <th>vote_count</th>\n",
       "      <th>director</th>\n",
       "      <th>star1</th>\n",
       "      <th>star2</th>\n",
       "      <th>star3</th>\n",
       "      <th>star4</th>\n",
       "      <th>mean_rating</th>\n",
       "      <th>num_ratings</th>\n",
       "    </tr>\n",
       "  </thead>\n",
       "  <tbody>\n",
       "    <tr>\n",
       "      <th>40658</th>\n",
       "      <td>False</td>\n",
       "      <td>NaN</td>\n",
       "      <td>0</td>\n",
       "      <td>[{'id': 18, 'name': 'Drama'}]</td>\n",
       "      <td>NaN</td>\n",
       "      <td>382892</td>\n",
       "      <td>tt5096628</td>\n",
       "      <td>fr</td>\n",
       "      <td>Théo et Hugo dans le même bateau</td>\n",
       "      <td>Théo and Hugo meet in a sex club, recognize ea...</td>\n",
       "      <td>1.730661</td>\n",
       "      <td>/iwjWsXxJZhdDs1fx3ohaiLsY1a5.jpg</td>\n",
       "      <td>[{'name': 'Ecce Films', 'id': 7128}, {'name': ...</td>\n",
       "      <td>[{'iso_3166_1': 'FR', 'name': 'France'}]</td>\n",
       "      <td>2016-04-27</td>\n",
       "      <td>0.00</td>\n",
       "      <td>97.00</td>\n",
       "      <td>[{'iso_639_1': 'fr', 'name': 'Français'}]</td>\n",
       "      <td>Released</td>\n",
       "      <td>NaN</td>\n",
       "      <td>Paris 05:59: Théo &amp; Hugo</td>\n",
       "      <td>False</td>\n",
       "      <td>7.50</td>\n",
       "      <td>17.00</td>\n",
       "      <td>Olivier Ducastel</td>\n",
       "      <td>Geoffrey Couet</td>\n",
       "      <td>François Nambot</td>\n",
       "      <td>Georges Daaboul</td>\n",
       "      <td>Elodie Adler</td>\n",
       "      <td>4.08</td>\n",
       "      <td>6.00</td>\n",
       "    </tr>\n",
       "    <tr>\n",
       "      <th>5874</th>\n",
       "      <td>False</td>\n",
       "      <td>NaN</td>\n",
       "      <td>0</td>\n",
       "      <td>[{'id': 35, 'name': 'Comedy'}, {'id': 18, 'nam...</td>\n",
       "      <td>NaN</td>\n",
       "      <td>15395</td>\n",
       "      <td>tt0282698</td>\n",
       "      <td>en</td>\n",
       "      <td>Love Liza</td>\n",
       "      <td>Following the unexplained suicide of his wife ...</td>\n",
       "      <td>2.362585</td>\n",
       "      <td>/oSvvgD9j4VgYdeeZrsMgV0kfAJT.jpg</td>\n",
       "      <td>[]</td>\n",
       "      <td>[]</td>\n",
       "      <td>2002-12-30</td>\n",
       "      <td>0.00</td>\n",
       "      <td>90.00</td>\n",
       "      <td>[{'iso_639_1': 'en', 'name': 'English'}]</td>\n",
       "      <td>Released</td>\n",
       "      <td>NaN</td>\n",
       "      <td>Love Liza</td>\n",
       "      <td>False</td>\n",
       "      <td>6.50</td>\n",
       "      <td>25.00</td>\n",
       "      <td>Todd Louiso</td>\n",
       "      <td>Philip Seymour Hoffman</td>\n",
       "      <td>Jack Kehler</td>\n",
       "      <td>Sarah Koskoff</td>\n",
       "      <td>Kathy Bates</td>\n",
       "      <td>3.37</td>\n",
       "      <td>356.00</td>\n",
       "    </tr>\n",
       "    <tr>\n",
       "      <th>17023</th>\n",
       "      <td>False</td>\n",
       "      <td>NaN</td>\n",
       "      <td>12300000</td>\n",
       "      <td>[{'id': 35, 'name': 'Comedy'}]</td>\n",
       "      <td>NaN</td>\n",
       "      <td>18826</td>\n",
       "      <td>tt0814331</td>\n",
       "      <td>en</td>\n",
       "      <td>Spring Breakdown</td>\n",
       "      <td>Three women in their thirties head to a popula...</td>\n",
       "      <td>2.355305</td>\n",
       "      <td>/rP6wvCc6zH6GJvKsSmdFInAI1Qh.jpg</td>\n",
       "      <td>[{'name': 'Code Entertainment', 'id': 14589}]</td>\n",
       "      <td>[{'iso_3166_1': 'US', 'name': 'United States o...</td>\n",
       "      <td>2009-05-22</td>\n",
       "      <td>0.00</td>\n",
       "      <td>84.00</td>\n",
       "      <td>[{'iso_639_1': 'en', 'name': 'English'}]</td>\n",
       "      <td>Released</td>\n",
       "      <td>NaN</td>\n",
       "      <td>Spring Breakdown</td>\n",
       "      <td>False</td>\n",
       "      <td>5.10</td>\n",
       "      <td>18.00</td>\n",
       "      <td>Ryan Shiraki</td>\n",
       "      <td>Amy Poehler</td>\n",
       "      <td>Parker Posey</td>\n",
       "      <td>Rachel Dratch</td>\n",
       "      <td>Amber Tamblyn</td>\n",
       "      <td>2.29</td>\n",
       "      <td>21.00</td>\n",
       "    </tr>\n",
       "    <tr>\n",
       "      <th>28120</th>\n",
       "      <td>False</td>\n",
       "      <td>NaN</td>\n",
       "      <td>0</td>\n",
       "      <td>[{'id': 27, 'name': 'Horror'}]</td>\n",
       "      <td>NaN</td>\n",
       "      <td>32322</td>\n",
       "      <td>tt0074430</td>\n",
       "      <td>en</td>\n",
       "      <td>Dr. Black, Mr. Hyde</td>\n",
       "      <td>A doctor (Bernie Casey) in a Watts clinic take...</td>\n",
       "      <td>0.000578</td>\n",
       "      <td>/aVSna1LHOIIAAI0f8vAmcS9b6nO.jpg</td>\n",
       "      <td>[{'name': 'Dimension Pictures', 'id': 4997}]</td>\n",
       "      <td>[{'iso_3166_1': 'US', 'name': 'United States o...</td>\n",
       "      <td>1976-01-01</td>\n",
       "      <td>0.00</td>\n",
       "      <td>85.00</td>\n",
       "      <td>[{'iso_639_1': 'en', 'name': 'English'}]</td>\n",
       "      <td>Released</td>\n",
       "      <td>The Fear of the Year is Here!</td>\n",
       "      <td>Dr. Black, Mr. Hyde</td>\n",
       "      <td>False</td>\n",
       "      <td>6.30</td>\n",
       "      <td>3.00</td>\n",
       "      <td>William Crain</td>\n",
       "      <td>Bernie Casey</td>\n",
       "      <td>Rosalind Cash</td>\n",
       "      <td>Marie O'Henry</td>\n",
       "      <td>Ji-Tu Cumbuka</td>\n",
       "      <td>2.00</td>\n",
       "      <td>2.00</td>\n",
       "    </tr>\n",
       "    <tr>\n",
       "      <th>10428</th>\n",
       "      <td>False</td>\n",
       "      <td>NaN</td>\n",
       "      <td>0</td>\n",
       "      <td>[{'id': 28, 'name': 'Action'}, {'id': 18, 'nam...</td>\n",
       "      <td>NaN</td>\n",
       "      <td>10703</td>\n",
       "      <td>tt0429078</td>\n",
       "      <td>zh</td>\n",
       "      <td>七劍</td>\n",
       "      <td>Seven warriors come together to protect a vill...</td>\n",
       "      <td>4.360738</td>\n",
       "      <td>/fbMVirC0QIlzxMJabtH8OqWFCtd.jpg</td>\n",
       "      <td>[{'name': 'Boram Entertainment Inc.', 'id': 29...</td>\n",
       "      <td>[{'iso_3166_1': 'KR', 'name': 'South Korea'}, ...</td>\n",
       "      <td>2005-07-25</td>\n",
       "      <td>0.00</td>\n",
       "      <td>153.00</td>\n",
       "      <td>[{'iso_639_1': 'cn', 'name': '广州话 / 廣州話'}, {'i...</td>\n",
       "      <td>Released</td>\n",
       "      <td>NaN</td>\n",
       "      <td>Seven Swords</td>\n",
       "      <td>False</td>\n",
       "      <td>6.00</td>\n",
       "      <td>46.00</td>\n",
       "      <td>Tsui Hark</td>\n",
       "      <td>Leon Lai</td>\n",
       "      <td>Charlie Yeung</td>\n",
       "      <td>Lu Yi</td>\n",
       "      <td>Liu Chia-Liang</td>\n",
       "      <td>3.20</td>\n",
       "      <td>53.00</td>\n",
       "    </tr>\n",
       "  </tbody>\n",
       "</table>\n",
       "</div>"
      ],
      "text/plain": [
       "       adult belongs_to_collection    budget  \\\n",
       "40658  False                   NaN         0   \n",
       "5874   False                   NaN         0   \n",
       "17023  False                   NaN  12300000   \n",
       "28120  False                   NaN         0   \n",
       "10428  False                   NaN         0   \n",
       "\n",
       "                                                  genres homepage      id  \\\n",
       "40658                      [{'id': 18, 'name': 'Drama'}]      NaN  382892   \n",
       "5874   [{'id': 35, 'name': 'Comedy'}, {'id': 18, 'nam...      NaN   15395   \n",
       "17023                     [{'id': 35, 'name': 'Comedy'}]      NaN   18826   \n",
       "28120                     [{'id': 27, 'name': 'Horror'}]      NaN   32322   \n",
       "10428  [{'id': 28, 'name': 'Action'}, {'id': 18, 'nam...      NaN   10703   \n",
       "\n",
       "         imdb_id original_language                    original_title  \\\n",
       "40658  tt5096628                fr  Théo et Hugo dans le même bateau   \n",
       "5874   tt0282698                en                         Love Liza   \n",
       "17023  tt0814331                en                  Spring Breakdown   \n",
       "28120  tt0074430                en               Dr. Black, Mr. Hyde   \n",
       "10428  tt0429078                zh                                七劍   \n",
       "\n",
       "                                                overview popularity  \\\n",
       "40658  Théo and Hugo meet in a sex club, recognize ea...   1.730661   \n",
       "5874   Following the unexplained suicide of his wife ...   2.362585   \n",
       "17023  Three women in their thirties head to a popula...   2.355305   \n",
       "28120  A doctor (Bernie Casey) in a Watts clinic take...   0.000578   \n",
       "10428  Seven warriors come together to protect a vill...   4.360738   \n",
       "\n",
       "                            poster_path  \\\n",
       "40658  /iwjWsXxJZhdDs1fx3ohaiLsY1a5.jpg   \n",
       "5874   /oSvvgD9j4VgYdeeZrsMgV0kfAJT.jpg   \n",
       "17023  /rP6wvCc6zH6GJvKsSmdFInAI1Qh.jpg   \n",
       "28120  /aVSna1LHOIIAAI0f8vAmcS9b6nO.jpg   \n",
       "10428  /fbMVirC0QIlzxMJabtH8OqWFCtd.jpg   \n",
       "\n",
       "                                    production_companies  \\\n",
       "40658  [{'name': 'Ecce Films', 'id': 7128}, {'name': ...   \n",
       "5874                                                  []   \n",
       "17023      [{'name': 'Code Entertainment', 'id': 14589}]   \n",
       "28120       [{'name': 'Dimension Pictures', 'id': 4997}]   \n",
       "10428  [{'name': 'Boram Entertainment Inc.', 'id': 29...   \n",
       "\n",
       "                                    production_countries release_date  \\\n",
       "40658           [{'iso_3166_1': 'FR', 'name': 'France'}]   2016-04-27   \n",
       "5874                                                  []   2002-12-30   \n",
       "17023  [{'iso_3166_1': 'US', 'name': 'United States o...   2009-05-22   \n",
       "28120  [{'iso_3166_1': 'US', 'name': 'United States o...   1976-01-01   \n",
       "10428  [{'iso_3166_1': 'KR', 'name': 'South Korea'}, ...   2005-07-25   \n",
       "\n",
       "       revenue  runtime                                   spoken_languages  \\\n",
       "40658     0.00    97.00          [{'iso_639_1': 'fr', 'name': 'Français'}]   \n",
       "5874      0.00    90.00           [{'iso_639_1': 'en', 'name': 'English'}]   \n",
       "17023     0.00    84.00           [{'iso_639_1': 'en', 'name': 'English'}]   \n",
       "28120     0.00    85.00           [{'iso_639_1': 'en', 'name': 'English'}]   \n",
       "10428     0.00   153.00  [{'iso_639_1': 'cn', 'name': '广州话 / 廣州話'}, {'i...   \n",
       "\n",
       "         status                        tagline                     title  \\\n",
       "40658  Released                            NaN  Paris 05:59: Théo & Hugo   \n",
       "5874   Released                            NaN                 Love Liza   \n",
       "17023  Released                            NaN          Spring Breakdown   \n",
       "28120  Released  The Fear of the Year is Here!       Dr. Black, Mr. Hyde   \n",
       "10428  Released                            NaN              Seven Swords   \n",
       "\n",
       "       video  vote_average  vote_count          director  \\\n",
       "40658  False          7.50       17.00  Olivier Ducastel   \n",
       "5874   False          6.50       25.00       Todd Louiso   \n",
       "17023  False          5.10       18.00      Ryan Shiraki   \n",
       "28120  False          6.30        3.00     William Crain   \n",
       "10428  False          6.00       46.00         Tsui Hark   \n",
       "\n",
       "                        star1            star2            star3  \\\n",
       "40658          Geoffrey Couet  François Nambot  Georges Daaboul   \n",
       "5874   Philip Seymour Hoffman      Jack Kehler    Sarah Koskoff   \n",
       "17023             Amy Poehler     Parker Posey    Rachel Dratch   \n",
       "28120            Bernie Casey    Rosalind Cash    Marie O'Henry   \n",
       "10428                Leon Lai    Charlie Yeung            Lu Yi   \n",
       "\n",
       "                star4  mean_rating  num_ratings  \n",
       "40658    Elodie Adler         4.08         6.00  \n",
       "5874      Kathy Bates         3.37       356.00  \n",
       "17023   Amber Tamblyn         2.29        21.00  \n",
       "28120   Ji-Tu Cumbuka         2.00         2.00  \n",
       "10428  Liu Chia-Liang         3.20        53.00  "
      ]
     },
     "metadata": {},
     "output_type": "display_data"
    }
   ],
   "source": [
    "# Checo a cobertura final\n",
    "cobertura_rating = kmm_full[\"mean_rating\"].notna().mean()\n",
    "print(f\"Cobertura de filmes com ratings: {cobertura_rating:.1%}\")\n",
    "\n",
    "display(kmm_full.sample(5, random_state=42))"
   ]
  },
  {
   "cell_type": "markdown",
   "id": "bda1a613",
   "metadata": {},
   "source": [
    "A base original do Kaggle é relacional, distribuída em várias tabelas. Para agilizar a análise e a modelagem, consolidei em uma única tabela com atributos essenciais: financeiros, notas, votos, diretor, atores, gênero e descrições.\n",
    "\n",
    "Os joins foram feitos respeitando as chaves de ligação: id (tmdbId) para credits/keywords e links como ponte entre ratings e metadata.\n",
    "\n",
    "As colunas não relevantes ou redundantes (ex.: poster_path, links técnicos, flags de adulto/vídeo) foram descartadas para reduzir ruído e deixar o dataset mais enxuto.\n",
    "\n",
    "Essa consolidação garante que temos um dataset único e consistente para responder às perguntas de negócio e treinar modelos."
   ]
  },
  {
   "cell_type": "markdown",
   "id": "3ff791f8",
   "metadata": {},
   "source": [
    "# K1 — 5.0 — SALVANDO A BASE DE DADOS FINAL"
   ]
  },
  {
   "cell_type": "code",
   "execution_count": 13,
   "id": "56e1091c",
   "metadata": {},
   "outputs": [
    {
     "name": "stdout",
     "output_type": "stream",
     "text": [
      "Arquivos salvos:\n",
      "Full: /home/emersds/repos_projetos/project_lighthouse/data/intermediary/kaggle_movies_metadata_full.csv\n"
     ]
    }
   ],
   "source": [
    "# Salvo o dataset completo do Kaggle\n",
    "out_full  = PATHS.INTER / \"kaggle_movies_metadata_full.csv\"\n",
    "\n",
    "kmm_full.to_csv(out_full, index=False)\n",
    "\n",
    "print(\"Arquivos salvos:\")\n",
    "print(\"Full:\", out_full.resolve())"
   ]
  },
  {
   "cell_type": "markdown",
   "id": "60757ed4",
   "metadata": {},
   "source": [
    "# K1 — 6.0 — OTIMIZAÇÃO DA BASE FINAL (PRÉ SELEÇÃO E LIMPEZA)"
   ]
  },
  {
   "cell_type": "code",
   "execution_count": 14,
   "id": "33fbafeb",
   "metadata": {},
   "outputs": [],
   "source": [
    "kmm_opt = kmm_full.copy()"
   ]
  },
  {
   "cell_type": "markdown",
   "id": "4190e6c5",
   "metadata": {},
   "source": [
    "## K1 — 6.1 — Primeira seleção de variáveis (features)"
   ]
  },
  {
   "cell_type": "code",
   "execution_count": 15,
   "id": "df8c0c37",
   "metadata": {},
   "outputs": [],
   "source": [
    "cols_drop = [\n",
    "    \"adult\",\n",
    "    \"belongs_to_collection\",\n",
    "    \"homepage\",\n",
    "    \"poster_path\",\n",
    "    \"production_companies\",\n",
    "    \"spoken_languages\",\n",
    "    \"status\",\n",
    "    \"tagline\",\n",
    "    \"video\",\n",
    "    \"title\",\n",
    "    \"id\"\n",
    "]\n",
    "\n",
    "# Dropo apenas as colunas acima e que existir para evitar erro\n",
    "kmm_opt = kmm_opt.drop(columns=[c for c in cols_drop if c in kmm_opt.columns])"
   ]
  },
  {
   "cell_type": "code",
   "execution_count": 16,
   "id": "a19f7ce4",
   "metadata": {},
   "outputs": [
    {
     "name": "stdout",
     "output_type": "stream",
     "text": [
      "Antes: (45542, 31)\n",
      "Depois: (45542, 20)\n",
      "Colunas atuais: ['budget', 'genres', 'imdb_id', 'original_language', 'original_title', 'overview', 'popularity', 'production_countries', 'release_date', 'revenue', 'runtime', 'vote_average', 'vote_count', 'director', 'star1', 'star2', 'star3', 'star4', 'mean_rating', 'num_ratings']\n"
     ]
    }
   ],
   "source": [
    "# Checando\n",
    "print(\"Antes:\", kmm_full.shape)\n",
    "print(\"Depois:\", kmm_opt.shape)\n",
    "print(\"Colunas atuais:\", list(kmm_opt.columns))"
   ]
  },
  {
   "cell_type": "markdown",
   "id": "870e128d",
   "metadata": {},
   "source": [
    "## K1 — 6.2 — Normalização de títulos, datas e numéricos"
   ]
  },
  {
   "cell_type": "code",
   "execution_count": 17,
   "id": "d7f64d66",
   "metadata": {},
   "outputs": [
    {
     "data": {
      "text/plain": [
       "budget                   object\n",
       "genres                   object\n",
       "imdb_id                  object\n",
       "original_language        object\n",
       "original_title           object\n",
       "overview                 object\n",
       "popularity               object\n",
       "production_countries     object\n",
       "release_date             object\n",
       "revenue                 float64\n",
       "runtime                 float64\n",
       "vote_average            float64\n",
       "vote_count              float64\n",
       "director                 object\n",
       "star1                    object\n",
       "star2                    object\n",
       "star3                    object\n",
       "star4                    object\n",
       "mean_rating             float64\n",
       "num_ratings             float64\n",
       "dtype: object"
      ]
     },
     "execution_count": 17,
     "metadata": {},
     "output_type": "execute_result"
    }
   ],
   "source": [
    "kmm_opt.dtypes"
   ]
  },
  {
   "cell_type": "code",
   "execution_count": 18,
   "id": "8333f7fb",
   "metadata": {},
   "outputs": [],
   "source": [
    "# Normalizo os títulos \n",
    "kmm_opt[\"original_title_norm\"] = kmm_opt[\"original_title\"].map(normalize_title)"
   ]
  },
  {
   "cell_type": "code",
   "execution_count": 19,
   "id": "0ed02c8e",
   "metadata": {},
   "outputs": [],
   "source": [
    "# Padronizo os tipos das colunas (numericas)\n",
    "num_cols = [\"budget\",\"popularity\",\"vote_count\",\"vote_average\",\"mean_rating\",\"num_ratings\"]\n",
    "for c in num_cols:\n",
    "    if c in kmm_opt.columns:\n",
    "        kmm_opt[c] = to_numeric_safe(kmm_opt[c])"
   ]
  },
  {
   "cell_type": "code",
   "execution_count": 20,
   "id": "33162932",
   "metadata": {},
   "outputs": [],
   "source": [
    "# Crio o ano\n",
    "kmm_opt[\"release_date\"] = pd.to_datetime(kmm_opt[\"release_date\"], errors=\"coerce\")\n",
    "kmm_opt[\"year\"] = kmm_opt[\"release_date\"].map(parse_year).astype(\"Int64\")"
   ]
  },
  {
   "cell_type": "code",
   "execution_count": 21,
   "id": "436ac74c",
   "metadata": {},
   "outputs": [],
   "source": [
    "# Normalizo as colunas categoricas\n",
    "cat_cols = [\"original_language\",\"production_countries\",\"director\",\"star1\",\"star2\",\"star3\",\"star4\"]\n",
    "for c in cat_cols:\n",
    "    if c in kmm_opt.columns:\n",
    "        kmm_opt[c] = (\n",
    "            kmm_opt[c]\n",
    "              .astype(str)\n",
    "              .str.strip()\n",
    "              .replace({\"nan\": np.nan})\n",
    "        )"
   ]
  },
  {
   "cell_type": "code",
   "execution_count": 22,
   "id": "d3bde9c5",
   "metadata": {},
   "outputs": [
    {
     "data": {
      "text/plain": [
       "budget                         float64\n",
       "genres                          object\n",
       "imdb_id                         object\n",
       "original_language               object\n",
       "original_title                  object\n",
       "overview                        object\n",
       "popularity                     float64\n",
       "production_countries            object\n",
       "release_date            datetime64[ns]\n",
       "revenue                        float64\n",
       "runtime                        float64\n",
       "vote_average                   float64\n",
       "vote_count                     float64\n",
       "director                        object\n",
       "star1                           object\n",
       "star2                           object\n",
       "star3                           object\n",
       "star4                           object\n",
       "mean_rating                    float64\n",
       "num_ratings                    float64\n",
       "original_title_norm             object\n",
       "year                             Int64\n",
       "dtype: object"
      ]
     },
     "execution_count": 22,
     "metadata": {},
     "output_type": "execute_result"
    }
   ],
   "source": [
    "kmm_opt.dtypes"
   ]
  },
  {
   "cell_type": "code",
   "execution_count": 23,
   "id": "ba1fac27",
   "metadata": {},
   "outputs": [],
   "source": [
    "kmm_opt = kmm_opt.drop(columns=[\"original_title\"])"
   ]
  },
  {
   "cell_type": "code",
   "execution_count": 24,
   "id": "29da9cf9",
   "metadata": {},
   "outputs": [
    {
     "name": "stdout",
     "output_type": "stream",
     "text": [
      "Duplicatas antes: 198\n"
     ]
    },
    {
     "data": {
      "text/plain": [
       "(45542, 21)"
      ]
     },
     "execution_count": 24,
     "metadata": {},
     "output_type": "execute_result"
    }
   ],
   "source": [
    "# Conto quantos registros estão duplicados por (original_title_norm, year)\n",
    "dup_mask = kmm_opt.duplicated(subset=[\"original_title_norm\", \"year\"], keep=False)\n",
    "print(\"Duplicatas antes:\", dup_mask.sum())\n",
    "kmm_opt.shape"
   ]
  },
  {
   "cell_type": "code",
   "execution_count": 25,
   "id": "44764310",
   "metadata": {},
   "outputs": [],
   "source": [
    "# Se houver múltiplas linhas para a mesma chave, mantenho a de maior votos\n",
    "kmm_opt = dedup_by_key(kmm_opt, keys=[\"original_title_norm\", \"year\"], score_col=\"vote_count\")"
   ]
  },
  {
   "cell_type": "code",
   "execution_count": 26,
   "id": "073c93c3",
   "metadata": {},
   "outputs": [
    {
     "name": "stdout",
     "output_type": "stream",
     "text": [
      "Duplicatas depois: 0\n"
     ]
    },
    {
     "data": {
      "text/plain": [
       "(45411, 21)"
      ]
     },
     "execution_count": 26,
     "metadata": {},
     "output_type": "execute_result"
    }
   ],
   "source": [
    "dup_mask_after = kmm_opt.duplicated(subset=[\"original_title_norm\", \"year\"], keep=False)\n",
    "print(\"Duplicatas depois:\", dup_mask_after.sum())\n",
    "kmm_opt.shape"
   ]
  },
  {
   "cell_type": "markdown",
   "id": "f59b68e4",
   "metadata": {},
   "source": [
    "## K1 — 6.3 — Parsing de colunas JSON"
   ]
  },
  {
   "cell_type": "code",
   "execution_count": 27,
   "id": "088e7494",
   "metadata": {},
   "outputs": [],
   "source": [
    "def _to_list_of_dicts(val):\n",
    "    \"\"\"Converte a célula (string JSON, lista de dicts, vazio) para uma lista de dicts segura.\"\"\"\n",
    "    # 1) valores vazios/NaN\n",
    "    if val is None or (isinstance(val, float) and pd.isna(val)):\n",
    "        return []\n",
    "    # 2) já é lista\n",
    "    if isinstance(val, list):\n",
    "        return [x for x in val if isinstance(x, dict)]\n",
    "    # 3) string -> tentar literal_eval, depois json.loads\n",
    "    if isinstance(val, str):\n",
    "        s = val.strip()\n",
    "        if not s or s.lower() in {\"nan\", \"none\", \"null\"}:\n",
    "            return []\n",
    "        for loader in (ast.literal_eval, json.loads):\n",
    "            try:\n",
    "                obj = loader(s)\n",
    "                break\n",
    "            except Exception:\n",
    "                obj = None\n",
    "        if isinstance(obj, list):\n",
    "            return [x for x in obj if isinstance(x, dict)]\n",
    "        else:\n",
    "            return []\n",
    "    # 4) qualquer outro tipo\n",
    "    return []\n",
    "\n",
    "def extract_list_key(val, key):\n",
    "    \"\"\"Extrai uma lista com o campo `key` de cada dict (ignorando vazios).\"\"\"\n",
    "    lst = _to_list_of_dicts(val)\n",
    "    return [d.get(key) for d in lst if isinstance(d, dict) and d.get(key)]\n",
    "\n",
    "def normalize_str_list(L):\n",
    "    \"\"\"Limpa uma lista de strings: trim + remove vazios/None.\"\"\"\n",
    "    if not isinstance(L, list):\n",
    "        return []\n",
    "    return [x.strip() for x in L if isinstance(x, str) and x.strip()]"
   ]
  },
  {
   "cell_type": "code",
   "execution_count": 28,
   "id": "b1f948be",
   "metadata": {},
   "outputs": [],
   "source": [
    "# Countries: códigos e nomes\n",
    "kmm_opt[\"countries_codes\"] = kmm_opt[\"production_countries\"].map(lambda v: normalize_str_list(extract_list_key(v, \"iso_3166_1\")))\n",
    "kmm_opt[\"countries_names\"] = kmm_opt[\"production_countries\"].map(lambda v: normalize_str_list(extract_list_key(v, \"name\")))"
   ]
  },
  {
   "cell_type": "code",
   "execution_count": 29,
   "id": "a1c9916e",
   "metadata": {},
   "outputs": [
    {
     "name": "stdout",
     "output_type": "stream",
     "text": [
      "Qtd de países únicos: 160\n",
      "United States of America    21130\n",
      "United Kingdom               4089\n",
      "France                       3932\n",
      "Germany                      2248\n",
      "Italy                        2166\n",
      "Canada                       1763\n",
      "Japan                        1645\n",
      "Spain                         964\n",
      "Russia                        912\n",
      "India                         825\n",
      "Name: count, dtype: int64\n"
     ]
    }
   ],
   "source": [
    "# Checagem\n",
    "countries_flat = pd.Series(np.concatenate(kmm_opt[\"countries_names\"].values)) if len(kmm_opt) else pd.Series([], dtype=object)\n",
    "print(\"Qtd de países únicos:\", countries_flat.nunique())\n",
    "print(countries_flat.value_counts().head(10))"
   ]
  },
  {
   "cell_type": "code",
   "execution_count": 30,
   "id": "503d2806",
   "metadata": {},
   "outputs": [],
   "source": [
    "# Crio a lista de generos pelos nomes\n",
    "kmm_opt[\"genres_list\"] = kmm_opt[\"genres\"].map(lambda v: normalize_str_list(extract_list_key(v, \"name\")))"
   ]
  },
  {
   "cell_type": "code",
   "execution_count": 31,
   "id": "a04d150b",
   "metadata": {},
   "outputs": [
    {
     "name": "stdout",
     "output_type": "stream",
     "text": [
      "Qtd de gêneros únicos: 28\n",
      "Drama              20231\n",
      "Comedy             13171\n",
      "Thriller            7611\n",
      "Romance             6727\n",
      "Action              6588\n",
      "Horror              4666\n",
      "Crime               4304\n",
      "Documentary         3927\n",
      "Adventure           3489\n",
      "Science Fiction     3041\n",
      "Family              2767\n",
      "Mystery             2462\n",
      "Fantasy             2308\n",
      "Animation           1931\n",
      "Foreign             1619\n",
      "Music               1597\n",
      "History             1397\n",
      "War                 1322\n",
      "Western             1042\n",
      "TV Movie             764\n",
      "Name: count, dtype: int64\n"
     ]
    }
   ],
   "source": [
    "# Checagem\n",
    "genres_flat = pd.Series(np.concatenate(kmm_opt[\"genres_list\"].values)) if len(kmm_opt) else pd.Series([], dtype=object)\n",
    "print(\"Qtd de gêneros únicos:\", genres_flat.nunique())\n",
    "print(genres_flat.value_counts().head(20))"
   ]
  },
  {
   "cell_type": "code",
   "execution_count": 32,
   "id": "06ed8faa",
   "metadata": {},
   "outputs": [],
   "source": [
    "kmm_opt = kmm_opt.drop(columns=[\"production_countries\", \"genres\", \"countries_codes\"])"
   ]
  },
  {
   "cell_type": "markdown",
   "id": "80525a06",
   "metadata": {},
   "source": [
    "# K1 — 7.0 — SALVANDO A BASE DE DADOS OTIMIZADA"
   ]
  },
  {
   "cell_type": "code",
   "execution_count": 33,
   "id": "4de0e5dc",
   "metadata": {},
   "outputs": [
    {
     "name": "stdout",
     "output_type": "stream",
     "text": [
      "Salvo em: /home/emersds/repos_projetos/project_lighthouse/data/processed/kaggle_otimizado.csv\n"
     ]
    }
   ],
   "source": [
    "out_path = PATHS.PROC / \"kaggle_otimizado.csv\"\n",
    "kmm_opt.to_csv(out_path, index=False)\n",
    "print(\"Salvo em:\", out_path.resolve())"
   ]
  },
  {
   "cell_type": "markdown",
   "id": "b99773ed",
   "metadata": {},
   "source": [
    "# K1 — 8.0 — DECISÕES E PRÓXIMOS PASSOS\n",
    "**Decisões nesta etapa**\n",
    "- Mantive apenas as colunas úteis para negócio/modelagem (orçamento, receita, duração, votos/notas, popularidade, idioma, países, overview) e os campos de diretor/atores e ratings agregados.\n",
    "  \n",
    "- Padronizei year, normalizei título (original_title_norm) e garanti tipos numéricos coerentes (budget, revenue, runtime, vote_*, mean_rating, num_ratings).\n",
    "  \n",
    "- Deduplicate por (original_title_norm, year) mantendo o registro com maior vote_count.\n",
    "  \n",
    "- Salvei a versão de trabalho em data/processed/kaggle_otimizado.csv e preservei a versão completa com joins em data/intermediary/kmm_full.csv para auditoria.\n",
    "\n",
    "**Saídas desta etapa**\n",
    "- data/intermediary/kmm_full.csv\n",
    "- data/processed/kaggle_otimizado.csv (saída principal)\n",
    "\n",
    "**Próximos passos**\n",
    "- Rodar EDA direcionada (K02).\n",
    "\n",
    "- Testar hipóteses de negócio."
   ]
  }
 ],
 "metadata": {
  "kernelspec": {
   "display_name": "project_lighthouse",
   "language": "python",
   "name": "python3"
  },
  "language_info": {
   "codemirror_mode": {
    "name": "ipython",
    "version": 3
   },
   "file_extension": ".py",
   "mimetype": "text/x-python",
   "name": "python",
   "nbconvert_exporter": "python",
   "pygments_lexer": "ipython3",
   "version": "3.10.14"
  }
 },
 "nbformat": 4,
 "nbformat_minor": 5
}
