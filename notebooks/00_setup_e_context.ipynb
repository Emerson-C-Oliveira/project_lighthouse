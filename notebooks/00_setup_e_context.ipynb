{
 "cells": [
  {
   "cell_type": "markdown",
   "id": "f594fc8a",
   "metadata": {},
   "source": [
    "# 0.0 - Setup e Contexto\n",
    "\n",
    "Este notebook prepara o ambiente inicial do projeto **Lighthouse**.\n",
    " \n",
    "O objetivo deste desafio é apoiar a tomada de decisão de um estúdio de Hollywood na escolha de novos filmes a serem produzidos, explorando dados históricos de filmes para responder perguntas estratégicas como:\n",
    "- Quais fatores influenciam o sucesso de um filme?\n",
    "- É possível prever a nota do IMDb de forma confiável?\n",
    "- Como enriquecer a base original com fontes externas?\n",
    "- É viável inferir gêneros de filmes pela sua sinopse?\n",
    "- Que tipo de recomendação simples pode ser oferecida?\n",
    "\n",
    "Aqui, definimos **setup inicial, pacotes, pastas e contexto** que serão usados em todo o pipeline."
   ]
  },
  {
   "cell_type": "code",
   "execution_count": 1,
   "id": "4e920fc4",
   "metadata": {},
   "outputs": [],
   "source": [
    "# =====================================================\n",
    "# Imports\n",
    "# =====================================================\n",
    "\n",
    "# Manipulação de dados\n",
    "import numpy as np\n",
    "import pandas as pd\n",
    "\n",
    "# Visualização\n",
    "import seaborn as sns\n",
    "import matplotlib.pyplot as plt\n",
    "\n",
    "# Sistema e paths\n",
    "import os\n",
    "from pathlib import Path\n",
    "\n",
    "# Configuração notebook\n",
    "from IPython.display import display"
   ]
  },
  {
   "cell_type": "code",
   "execution_count": 2,
   "id": "e78c360f",
   "metadata": {},
   "outputs": [
    {
     "name": "stdout",
     "output_type": "stream",
     "text": [
      "Estrutura de pastas configurada:\n",
      "Raw:       ../data/raw\n",
      "Processed: ../data/processed\n",
      "Intermediary: ../data/intermediary\n",
      "Reports:   ../reports\n",
      "Figures:   ../reports/figures\n"
     ]
    }
   ],
   "source": [
    "# =====================================================\n",
    "# Estrutura de Pastas\n",
    "# =====================================================\n",
    "\n",
    "RAW = Path(\"../data/raw\")\n",
    "PROC = Path(\"../data/processed\")\n",
    "INTER = Path(\"../data/intermediary\")\n",
    "REPORTS = Path(\"../reports\")\n",
    "FIGURES = Path(\"../reports/figures\")\n",
    "\n",
    "# Garante que as pastas existam\n",
    "for p in [RAW, PROC, REPORTS, FIGURES]:\n",
    "    p.mkdir(parents=True, exist_ok=True)\n",
    "\n",
    "print(\"Estrutura de pastas configurada:\")\n",
    "print(f\"Raw:       {RAW}\")\n",
    "print(f\"Processed: {PROC}\")\n",
    "print(f\"Intermediary: {INTER}\")\n",
    "print(f\"Reports:   {REPORTS}\")\n",
    "print(f\"Figures:   {FIGURES}\")"
   ]
  },
  {
   "cell_type": "code",
   "execution_count": 3,
   "id": "63936aa2",
   "metadata": {},
   "outputs": [],
   "source": [
    "# =====================================================\n",
    "# Configurações Globais\n",
    "# =====================================================\n",
    "\n",
    "#### Pandas\n",
    "# Aumenta o número de colunas exibidas\n",
    "pd.options.display.max_columns = 100\n",
    "# Mostra números decimais sempre com 2 casas\n",
    "pd.options.display.float_format = \"{:.2f}\".format\n",
    "\n",
    "#### Seaborn/Matplotlib\n",
    "## Configura o tema padrão do Seaborn\n",
    "sns.set(style=\"whitegrid\", palette=\"muted\", font_scale=1.1)"
   ]
  },
  {
   "cell_type": "markdown",
   "id": "967e0ab0",
   "metadata": {},
   "source": [
    "As configurações globais foram definidas para garantir uma visualização mais clara e eficiente dos dados, em linha com os princípios defendidos por Cole Nussbaumer Knaflic. \n",
    "\n",
    "A ideia é padronizar o estilo de exibição, reduzindo distrações visuais e destacando apenas as informações relevantes. \n",
    "\n",
    "Dessa forma, o analista consegue enxergar rapidamente padrões, anomalias e insights, sem perder tempo ajustando parâmetros de exibição a cada novo notebook ou conjunto de dados."
   ]
  },
  {
   "cell_type": "markdown",
   "id": "a0480a25",
   "metadata": {},
   "source": [
    "# 0.1 - Próximos Passos\n",
    "\n",
    "- **Notebook 01_data_overview_lighthouse.ipynb**  \n",
    "Leitura e inspeção da base original (Lighthouse/Indicium), com checagem de tipos, valores nulos e  pré-limpeza dos dados.  \n",
    "\n",
    "- **Notebook 02_data_overview_kaggle.ipynb**  \n",
    "Leitura da base complementar do Kaggle (movies_metadata), análise de colunas úteis e tratamento inicial com pré-limpeza dos dados.  \n",
    "\n",
    "- **Notebook 03_matching_lh_kaggle.ipynb**  \n",
    "Integração das duas bases para enriquecer os dados originais e assim produzirmos modelos mais robustos. \n"
   ]
  }
 ],
 "metadata": {
  "kernelspec": {
   "display_name": "project_lighthouse",
   "language": "python",
   "name": "python3"
  },
  "language_info": {
   "codemirror_mode": {
    "name": "ipython",
    "version": 3
   },
   "file_extension": ".py",
   "mimetype": "text/x-python",
   "name": "python",
   "nbconvert_exporter": "python",
   "pygments_lexer": "ipython3",
   "version": "3.10.14"
  }
 },
 "nbformat": 4,
 "nbformat_minor": 5
}
