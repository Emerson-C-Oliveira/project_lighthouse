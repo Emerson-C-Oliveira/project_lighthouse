{
 "cells": [
  {
   "cell_type": "markdown",
   "id": "a8b4e6b8",
   "metadata": {},
   "source": [
    "# 1.0 – ETAPA UM – ENTENDENDO O NEGÓCIO"
   ]
  },
  {
   "cell_type": "markdown",
   "id": "4725e4ea",
   "metadata": {},
   "source": [
    "A PProductions é um estúdio de cinema que atua no mercado global de entretenimento, produzindo longas-metragens para cinema e streaming. Sua receita é gerada principalmente por bilheteria, distribuição em plataformas digitais, licenciamento e merchandising. O público-alvo é amplo, abrangendo diferentes faixas etárias e preferências culturais.\n",
    "\n",
    "O setor é altamente competitivo, com grandes estúdios e plataformas de streaming disputando a atenção do público. Os desafios incluem elevados custos de produção e marketing, forte concorrência internacional e mudanças rápidas no comportamento dos consumidores, cada vez mais orientados para o streaming. Em contrapartida, existem oportunidades ligadas ao uso de dados para reduzir incertezas, apoiar decisões de investimento e identificar fatores de sucesso em futuros lançamentos.\n",
    "\n",
    "A estrutura organizacional envolve áreas criativas, produção, marketing/distribuição e finanças. Decisores estratégicos precisam equilibrar risco e retorno, apoiando-se em análises quantitativas para melhorar a taxa de acerto em decisões de portfólio. O maior risco é a incerteza de audiência, que pode comprometer grandes investimentos, enquanto a principal oportunidade é aumentar a previsibilidade por meio de modelos de ciência de dados."
   ]
  },
  {
   "cell_type": "markdown",
   "id": "98913756",
   "metadata": {},
   "source": [
    "# 2.0 – ETAPA DOIS – PROBLEMA DE NEGÓCIO"
   ]
  },
  {
   "cell_type": "markdown",
   "id": "eb0cc444",
   "metadata": {},
   "source": [
    "O estúdio de cinema PProductions, em Hollywood, enfrenta um desafio estratégico: decidir qual será o próximo filme a ser produzido em um mercado de altíssimo investimento e intensa competição. Uma decisão equivocada pode representar perdas de milhões de dólares, enquanto uma escolha bem-informada pode gerar retornos expressivos e fortalecer a posição do estúdio no mercado global.\n",
    "\n",
    "O time executivo precisa de análises confiáveis que reduzam a incerteza e apoiem decisões críticas sobre portfólio de produção. Para isso, é necessário compreender quais fatores mais impactam o sucesso de um filme, prever indicadores de audiência como a nota do IMDb, avaliar o potencial de faturamento com base nas características do filme e explorar novas formas de análise, como o uso de NLP para inferir gêneros a partir de sinopses.\n",
    "\n",
    "O objetivo deste projeto é traduzir dados históricos do setor cinematográfico em insights e modelos preditivos que apoiem decisões de alto risco financeiro. A solução deve combinar análise exploratória, modelagem estatística e protótipos de machine learning, sempre com foco em clareza, aplicabilidade e valor de negócio."
   ]
  },
  {
   "cell_type": "markdown",
   "id": "29982dd6",
   "metadata": {},
   "source": [
    "# 3.0 – ETAPA TRÊS – COLETA DE DADOS"
   ]
  },
  {
   "cell_type": "markdown",
   "id": "4a8f89c8",
   "metadata": {},
   "source": [
    "## 3.1. - Imports:\n",
    "Nesta seção, todas as bibliotecas e módulos necessários são importados. Essas bibliotecas fornecem a funcionalidade exigida para diversas tarefas de manipulação de dados, visualização e modelagem."
   ]
  },
  {
   "cell_type": "code",
   "execution_count": 24,
   "id": "7e888b1e",
   "metadata": {},
   "outputs": [],
   "source": [
    "# Manipulação e análise de dados\n",
    "import math\n",
    "import numpy as np\n",
    "import pandas as pd\n",
    "from pathlib import Path\n",
    "\n",
    "# Visualização de dados\n",
    "import seaborn as sns\n",
    "from matplotlib import pyplot as plt\n",
    "from matplotlib.gridspec import GridSpec\n",
    "from tabulate import tabulate\n",
    "\n",
    "# Utilidades para notebooks\n",
    "from IPython.display import Image\n",
    "from IPython.core.display import HTML\n",
    "\n",
    "# Manipulação de datas\n",
    "import datetime\n"
   ]
  },
  {
   "cell_type": "markdown",
   "id": "6e32c7e3",
   "metadata": {},
   "source": [
    "## 3.2. - Funções Auxiliares:\n",
    "Esta seção contém várias funções auxiliares que serão usadas ao longo do projeto para realizar tarefas como pré-processamento de dados, cálculo de erros e validação cruzada. Essas funções ajudam a melhorar a organização e a reutilização do código."
   ]
  },
  {
   "cell_type": "code",
   "execution_count": null,
   "id": "35fad2b6",
   "metadata": {},
   "outputs": [],
   "source": []
  },
  {
   "cell_type": "markdown",
   "id": "cc7a364f",
   "metadata": {},
   "source": [
    "## 3.3. - Carregando os Dados:"
   ]
  }
 ],
 "metadata": {
  "kernelspec": {
   "display_name": "project_lighthouse",
   "language": "python",
   "name": "python3"
  },
  "language_info": {
   "codemirror_mode": {
    "name": "ipython",
    "version": 3
   },
   "file_extension": ".py",
   "mimetype": "text/x-python",
   "name": "python",
   "nbconvert_exporter": "python",
   "pygments_lexer": "ipython3",
   "version": "3.10.14"
  }
 },
 "nbformat": 4,
 "nbformat_minor": 5
}
